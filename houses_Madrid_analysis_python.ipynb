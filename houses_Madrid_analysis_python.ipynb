{
 "cells": [
  {
   "cell_type": "code",
   "execution_count": 6,
   "metadata": {},
   "outputs": [],
   "source": [
    "import pandas as pd\n",
    "import numpy as np\n",
    "import plotly.express as px\n",
    "from matplotlib import pyplot as plt\n",
    "import seaborn as sns\n",
    "\n",
    "# Set display options for pandas\n",
    "pd.options.display.float_format = '{:,.2f}'.format\n",
    "pd.options.display.max_rows = None\n",
    "pd.options.display.max_columns = None"
   ]
  },
  {
   "cell_type": "code",
   "execution_count": 7,
   "metadata": {},
   "outputs": [],
   "source": [
    "# Load data from CSV file\n",
    "data = pd.read_csv('houses_Madrid.csv', encoding= 'ISO-8859-1')"
   ]
  },
  {
   "cell_type": "code",
   "execution_count": 8,
   "metadata": {},
   "outputs": [
    {
     "name": "stdout",
     "output_type": "stream",
     "text": [
      "<class 'pandas.core.frame.DataFrame'>\n",
      "RangeIndex: 21742 entries, 0 to 21741\n",
      "Data columns (total 58 columns):\n",
      " #   Column                        Non-Null Count  Dtype  \n",
      "---  ------                        --------------  -----  \n",
      " 0   Unnamed: 0                    21742 non-null  int64  \n",
      " 1   id                            21742 non-null  int64  \n",
      " 2   title                         21742 non-null  object \n",
      " 3   subtitle                      21742 non-null  object \n",
      " 4   sq_mt_built                   21616 non-null  float64\n",
      " 5   sq_mt_useful                  8228 non-null   float64\n",
      " 6   n_rooms                       21742 non-null  int64  \n",
      " 7   n_bathrooms                   21726 non-null  float64\n",
      " 8   n_floors                      1437 non-null   float64\n",
      " 9   sq_mt_allotment               1432 non-null   float64\n",
      " 10  latitude                      0 non-null      float64\n",
      " 11  longitude                     0 non-null      float64\n",
      " 12  raw_address                   16277 non-null  object \n",
      " 13  is_exact_address_hidden       21742 non-null  bool   \n",
      " 14  street_name                   15837 non-null  object \n",
      " 15  street_number                 6300 non-null   object \n",
      " 16  portal                        0 non-null      float64\n",
      " 17  floor                         19135 non-null  object \n",
      " 18  is_floor_under                20572 non-null  object \n",
      " 19  door                          0 non-null      float64\n",
      " 20  neighborhood_id               21742 non-null  object \n",
      " 21  operation                     21742 non-null  object \n",
      " 22  rent_price                    21742 non-null  int64  \n",
      " 23  rent_price_by_area            0 non-null      float64\n",
      " 24  is_rent_price_known           21742 non-null  bool   \n",
      " 25  buy_price                     21742 non-null  int64  \n",
      " 26  buy_price_by_area             21742 non-null  int64  \n",
      " 27  is_buy_price_known            21742 non-null  bool   \n",
      " 28  house_type_id                 21351 non-null  object \n",
      " 29  is_renewal_needed             21742 non-null  bool   \n",
      " 30  is_new_development            20750 non-null  object \n",
      " 31  built_year                    10000 non-null  float64\n",
      " 32  has_central_heating           13608 non-null  object \n",
      " 33  has_individual_heating        13608 non-null  object \n",
      " 34  are_pets_allowed              0 non-null      float64\n",
      " 35  has_ac                        11211 non-null  object \n",
      " 36  has_fitted_wardrobes          13399 non-null  object \n",
      " 37  has_lift                      19356 non-null  object \n",
      " 38  is_exterior                   18699 non-null  object \n",
      " 39  has_garden                    1556 non-null   object \n",
      " 40  has_pool                      5171 non-null   object \n",
      " 41  has_terrace                   9548 non-null   object \n",
      " 42  has_balcony                   3321 non-null   object \n",
      " 43  has_storage_room              7698 non-null   object \n",
      " 44  is_furnished                  0 non-null      float64\n",
      " 45  is_kitchen_equipped           0 non-null      float64\n",
      " 46  is_accessible                 4074 non-null   object \n",
      " 47  has_green_zones               4057 non-null   object \n",
      " 48  energy_certificate            21742 non-null  object \n",
      " 49  has_parking                   21742 non-null  bool   \n",
      " 50  has_private_parking           0 non-null      float64\n",
      " 51  has_public_parking            0 non-null      float64\n",
      " 52  is_parking_included_in_price  7719 non-null   object \n",
      " 53  parking_price                 7719 non-null   float64\n",
      " 54  is_orientation_north          11358 non-null  object \n",
      " 55  is_orientation_west           11358 non-null  object \n",
      " 56  is_orientation_south          11358 non-null  object \n",
      " 57  is_orientation_east           11358 non-null  object \n",
      "dtypes: bool(5), float64(17), int64(6), object(30)\n",
      "memory usage: 8.9+ MB\n"
     ]
    }
   ],
   "source": [
    "# check basic information (number of columns, data types, non-missing values)\n",
    "data.info()"
   ]
  },
  {
   "cell_type": "markdown",
   "metadata": {},
   "source": [
    "<h3 style=\"-webkit-text-stroke-width:0px;border-width:0px;color:rgb(217, 221, 232);font-family:Inter, sans-serif;font-size:16px;font-style:normal;font-variant-alternates:inherit;font-variant-caps:normal;font-variant-east-asian:inherit;font-variant-emoji:inherit;font-variant-ligatures:normal;font-variant-numeric:inherit;font-variant-position:inherit;letter-spacing:normal;line-height:20px;margin:24px 0px 8px;orphans:2;padding:0px;text-align:start;text-decoration-color:initial;text-decoration-style:initial;text-decoration-thickness:initial;text-indent:0px;text-transform:none;vertical-align:baseline;white-space:normal;widows:2;word-spacing:0px;\"><span style=\"color:#fafafa;\"><strong>Data Dictionary</strong></span></h3>\n",
    "<figure class=\"table\">\n",
    "    <table style=\"-webkit-text-stroke-width:0px;border-collapse:separate;border-color:rgb(218, 220, 224);border-radius:8px;border-spacing:0px;border-style:solid;color:rgb(217, 221, 232);display:block;font-family:Inter, sans-serif;font-size:14px;font-style:normal;font-variant-alternates:inherit;font-variant-caps:normal;font-variant-east-asian:inherit;font-variant-emoji:inherit;font-variant-ligatures:normal;font-variant-numeric:inherit;font-variant-position:inherit;font-weight:400;letter-spacing:normal;margin:0px;max-width:fit-content;orphans:2;overflow-x:auto;padding:0px;table-layout:fixed;text-align:start;text-decoration-color:initial;text-decoration-style:initial;text-decoration-thickness:initial;text-transform:none;vertical-align:baseline;white-space:normal;widows:2;word-break:normal;word-spacing:0px;\">\n",
    "        <thead style=\"border-width:0px;font-family:inherit;font-size:14px;font-style:inherit;font-variant:inherit;font-weight:inherit;margin:0px;padding:0px;vertical-align:baseline;\">\n",
    "            <tr style=\"border-width:0px;font-family:inherit;font-size:14px;font-style:inherit;font-variant:inherit;font-weight:inherit;height:52px;margin:0px;padding:0px;vertical-align:baseline;\">\n",
    "                <th style=\"border-width:0px;color:rgb(217, 221, 232);font-family:inherit;font-size:14px;font-style:inherit;font-variant:inherit;line-height:24px;margin:0px;padding:16px;vertical-align:middle;\"><span style=\"color:#fafafa;\"><strong>Variable Name</strong></span></th>\n",
    "                <th style=\"border-width:0px;color:rgb(217, 221, 232);font-family:inherit;font-size:14px;font-style:inherit;font-variant:inherit;line-height:24px;margin:0px;padding:16px;vertical-align:middle;\"><span style=\"color:#fafafa;\"><strong>Description</strong></span></th>\n",
    "            </tr>\n",
    "        </thead>\n",
    "        <tbody style=\"border-width:0px;font-family:inherit;font-size:14px;font-style:inherit;font-variant:inherit;font-weight:inherit;margin:0px;padding:0px;vertical-align:baseline;\">\n",
    "            <tr style=\"border-width:0px;font-family:inherit;font-size:14px;font-style:inherit;font-variant:inherit;font-weight:inherit;height:52px;margin:0px;padding:0px;vertical-align:baseline;\">\n",
    "                <td style=\"border-bottom:0px initial initial;border-image:initial;border-left:0px initial initial;border-right:0px initial initial;border-top:1px solid rgb(218, 220, 224);color:rgb(217, 221, 232);font-family:inherit;font-size:14px;font-style:inherit;font-variant:inherit;font-weight:inherit;margin:0px;padding:16px;vertical-align:middle;\"><span style=\"color:#fafafa;\">ID</span></td>\n",
    "                <td style=\"border-bottom:0px initial initial;border-image:initial;border-left:0px initial initial;border-right:0px initial initial;border-top:1px solid rgb(218, 220, 224);color:rgb(252, 253, 255);font-family:inherit;font-size:14px;font-style:inherit;font-variant:inherit;font-weight:inherit;margin:0px;padding:16px;vertical-align:middle;\"><span style=\"color:#fafafa;\">Identifier ID</span></td>\n",
    "            </tr>\n",
    "            <tr style=\"border-width:0px;font-family:inherit;font-size:14px;font-style:inherit;font-variant:inherit;font-weight:inherit;height:52px;margin:0px;padding:0px;vertical-align:baseline;\">\n",
    "                <td style=\"border-bottom:0px initial initial;border-image:initial;border-left:0px initial initial;border-right:0px initial initial;border-top:1px solid rgb(218, 220, 224);color:rgb(217, 221, 232);font-family:inherit;font-size:14px;font-style:inherit;font-variant:inherit;font-weight:inherit;margin:0px;padding:16px;vertical-align:middle;\"><span style=\"color:#fafafa;\">title</span></td>\n",
    "                <td style=\"border-bottom:0px initial initial;border-image:initial;border-left:0px initial initial;border-right:0px initial initial;border-top:1px solid rgb(218, 220, 224);color:rgb(217, 221, 232);font-family:inherit;font-size:14px;font-style:inherit;font-variant:inherit;font-weight:inherit;margin:0px;padding:16px;vertical-align:middle;\"><span style=\"color:#fafafa;\">Title from listing</span></td>\n",
    "            </tr>\n",
    "            <tr style=\"border-width:0px;font-family:inherit;font-size:14px;font-style:inherit;font-variant:inherit;font-weight:inherit;height:52px;margin:0px;padding:0px;vertical-align:baseline;\">\n",
    "                <td style=\"border-bottom:0px initial initial;border-image:initial;border-left:0px initial initial;border-right:0px initial initial;border-top:1px solid rgb(218, 220, 224);color:rgb(217, 221, 232);font-family:inherit;font-size:14px;font-style:inherit;font-variant:inherit;font-weight:inherit;margin:0px;padding:16px;vertical-align:middle;\"><span style=\"color:#fafafa;\">subtitle</span></td>\n",
    "                <td style=\"border-bottom:0px initial initial;border-image:initial;border-left:0px initial initial;border-right:0px initial initial;border-top:1px solid rgb(218, 220, 224);color:rgb(217, 221, 232);font-family:inherit;font-size:14px;font-style:inherit;font-variant:inherit;font-weight:inherit;margin:0px;padding:16px;vertical-align:middle;\"><span style=\"color:#fafafa;\">Neighborhood and city</span></td>\n",
    "            </tr>\n",
    "            <tr style=\"border-width:0px;font-family:inherit;font-size:14px;font-style:inherit;font-variant:inherit;font-weight:inherit;height:52px;margin:0px;padding:0px;vertical-align:baseline;\">\n",
    "                <td style=\"border-bottom:0px initial initial;border-image:initial;border-left:0px initial initial;border-right:0px initial initial;border-top:1px solid rgb(218, 220, 224);color:rgb(217, 221, 232);font-family:inherit;font-size:14px;font-style:inherit;font-variant:inherit;font-weight:inherit;margin:0px;padding:16px;vertical-align:middle;\"><span style=\"color:#fafafa;\">sq_mt_built</span></td>\n",
    "                <td style=\"border-bottom:0px initial initial;border-image:initial;border-left:0px initial initial;border-right:0px initial initial;border-top:1px solid rgb(218, 220, 224);color:rgb(217, 221, 232);font-family:inherit;font-size:14px;font-style:inherit;font-variant:inherit;font-weight:inherit;margin:0px;padding:16px;vertical-align:middle;\"><span style=\"color:#fafafa;\">Square meter built</span></td>\n",
    "            </tr>\n",
    "            <tr style=\"border-width:0px;font-family:inherit;font-size:14px;font-style:inherit;font-variant:inherit;font-weight:inherit;height:52px;margin:0px;padding:0px;vertical-align:baseline;\">\n",
    "                <td style=\"border-bottom:0px initial initial;border-image:initial;border-left:0px initial initial;border-right:0px initial initial;border-top:1px solid rgb(218, 220, 224);color:rgb(217, 221, 232);font-family:inherit;font-size:14px;font-style:inherit;font-variant:inherit;font-weight:inherit;margin:0px;padding:16px;vertical-align:middle;\"><span style=\"color:#fafafa;\">sq_mt_useful</span></td>\n",
    "                <td style=\"border-bottom:0px initial initial;border-image:initial;border-left:0px initial initial;border-right:0px initial initial;border-top:1px solid rgb(218, 220, 224);color:rgb(217, 221, 232);font-family:inherit;font-size:14px;font-style:inherit;font-variant:inherit;font-weight:inherit;margin:0px;padding:16px;vertical-align:middle;\"><span style=\"color:#fafafa;\">Square meter useful</span></td>\n",
    "            </tr>\n",
    "            <tr style=\"border-width:0px;font-family:inherit;font-size:14px;font-style:inherit;font-variant:inherit;font-weight:inherit;height:52px;margin:0px;padding:0px;vertical-align:baseline;\">\n",
    "                <td style=\"border-bottom:0px initial initial;border-image:initial;border-left:0px initial initial;border-right:0px initial initial;border-top:1px solid rgb(218, 220, 224);color:rgb(217, 221, 232);font-family:inherit;font-size:14px;font-style:inherit;font-variant:inherit;font-weight:inherit;margin:0px;padding:16px;vertical-align:middle;\"><span style=\"color:#fafafa;\">n_rooms</span></td>\n",
    "                <td style=\"border-bottom:0px initial initial;border-image:initial;border-left:0px initial initial;border-right:0px initial initial;border-top:1px solid rgb(218, 220, 224);color:rgb(217, 221, 232);font-family:inherit;font-size:14px;font-style:inherit;font-variant:inherit;font-weight:inherit;margin:0px;padding:16px;vertical-align:middle;\"><span style=\"color:#fafafa;\">Number of rooms</span></td>\n",
    "            </tr>\n",
    "            <tr style=\"border-width:0px;font-family:inherit;font-size:14px;font-style:inherit;font-variant:inherit;font-weight:inherit;height:52px;margin:0px;padding:0px;vertical-align:baseline;\">\n",
    "                <td style=\"border-bottom:0px initial initial;border-image:initial;border-left:0px initial initial;border-right:0px initial initial;border-top:1px solid rgb(218, 220, 224);color:rgb(217, 221, 232);font-family:inherit;font-size:14px;font-style:inherit;font-variant:inherit;font-weight:inherit;margin:0px;padding:16px;vertical-align:middle;\"><span style=\"color:#fafafa;\">n_bathrooms</span></td>\n",
    "                <td style=\"border-bottom:0px initial initial;border-image:initial;border-left:0px initial initial;border-right:0px initial initial;border-top:1px solid rgb(218, 220, 224);color:rgb(217, 221, 232);font-family:inherit;font-size:14px;font-style:inherit;font-variant:inherit;font-weight:inherit;margin:0px;padding:16px;vertical-align:middle;\"><span style=\"color:#fafafa;\">Number of bathrooms</span></td>\n",
    "            </tr>\n",
    "            <tr style=\"border-width:0px;font-family:inherit;font-size:14px;font-style:inherit;font-variant:inherit;font-weight:inherit;height:52px;margin:0px;padding:0px;vertical-align:baseline;\">\n",
    "                <td style=\"border-bottom:0px initial initial;border-image:initial;border-left:0px initial initial;border-right:0px initial initial;border-top:1px solid rgb(218, 220, 224);color:rgb(217, 221, 232);font-family:inherit;font-size:14px;font-style:inherit;font-variant:inherit;font-weight:inherit;margin:0px;padding:16px;vertical-align:middle;\"><span style=\"color:#fafafa;\">sq_mt_allotment</span></td>\n",
    "                <td style=\"border-bottom:0px initial initial;border-image:initial;border-left:0px initial initial;border-right:0px initial initial;border-top:1px solid rgb(218, 220, 224);color:rgb(217, 221, 232);font-family:inherit;font-size:14px;font-style:inherit;font-variant:inherit;font-weight:inherit;margin:0px;padding:16px;vertical-align:middle;\"><span style=\"color:#fafafa;\">Square meter allotment</span></td>\n",
    "            </tr>\n",
    "            <tr style=\"border-width:0px;font-family:inherit;font-size:14px;font-style:inherit;font-variant:inherit;font-weight:inherit;height:52px;margin:0px;padding:0px;vertical-align:baseline;\">\n",
    "                <td style=\"border-bottom:0px initial initial;border-image:initial;border-left:0px initial initial;border-right:0px initial initial;border-top:1px solid rgb(218, 220, 224);color:rgb(217, 221, 232);font-family:inherit;font-size:14px;font-style:inherit;font-variant:inherit;font-weight:inherit;margin:0px;padding:16px;vertical-align:middle;\"><span style=\"color:#fafafa;\">latitude, longitude</span></td>\n",
    "                <td style=\"border-bottom:0px initial initial;border-image:initial;border-left:0px initial initial;border-right:0px initial initial;border-top:1px solid rgb(218, 220, 224);color:rgb(217, 221, 232);font-family:inherit;font-size:14px;font-style:inherit;font-variant:inherit;font-weight:inherit;margin:0px;padding:16px;vertical-align:middle;\"><span style=\"color:#fafafa;\">Latitude, Longitude (Since portals hide the location mainly NAs)</span></td>\n",
    "            </tr>\n",
    "            <tr style=\"border-width:0px;font-family:inherit;font-size:14px;font-style:inherit;font-variant:inherit;font-weight:inherit;height:52px;margin:0px;padding:0px;vertical-align:baseline;\">\n",
    "                <td style=\"border-bottom:0px initial initial;border-image:initial;border-left:0px initial initial;border-right:0px initial initial;border-top:1px solid rgb(218, 220, 224);color:rgb(217, 221, 232);font-family:inherit;font-size:14px;font-style:inherit;font-variant:inherit;font-weight:inherit;margin:0px;padding:16px;vertical-align:middle;\"><span style=\"color:#fafafa;\">raw_address</span></td>\n",
    "                <td style=\"border-bottom:0px initial initial;border-image:initial;border-left:0px initial initial;border-right:0px initial initial;border-top:1px solid rgb(218, 220, 224);color:rgb(217, 221, 232);font-family:inherit;font-size:14px;font-style:inherit;font-variant:inherit;font-weight:inherit;margin:0px;padding:16px;vertical-align:middle;\"><span style=\"color:#fafafa;\">Address</span></td>\n",
    "            </tr>\n",
    "            <tr style=\"border-width:0px;font-family:inherit;font-size:14px;font-style:inherit;font-variant:inherit;font-weight:inherit;height:52px;margin:0px;padding:0px;vertical-align:baseline;\">\n",
    "                <td style=\"border-bottom:0px initial initial;border-image:initial;border-left:0px initial initial;border-right:0px initial initial;border-top:1px solid rgb(218, 220, 224);color:rgb(217, 221, 232);font-family:inherit;font-size:14px;font-style:inherit;font-variant:inherit;font-weight:inherit;margin:0px;padding:16px;vertical-align:middle;\"><span style=\"color:#fafafa;\">is_exact_address_hidden</span></td>\n",
    "                <td style=\"border-bottom:0px initial initial;border-image:initial;border-left:0px initial initial;border-right:0px initial initial;border-top:1px solid rgb(218, 220, 224);color:rgb(217, 221, 232);font-family:inherit;font-size:14px;font-style:inherit;font-variant:inherit;font-weight:inherit;margin:0px;padding:16px;vertical-align:middle;\"><span style=\"color:#fafafa;\">Boolean values</span></td>\n",
    "            </tr>\n",
    "            <tr style=\"border-width:0px;font-family:inherit;font-size:14px;font-style:inherit;font-variant:inherit;font-weight:inherit;height:52px;margin:0px;padding:0px;vertical-align:baseline;\">\n",
    "                <td style=\"border-bottom:0px initial initial;border-image:initial;border-left:0px initial initial;border-right:0px initial initial;border-top:1px solid rgb(218, 220, 224);color:rgb(217, 221, 232);font-family:inherit;font-size:14px;font-style:inherit;font-variant:inherit;font-weight:inherit;margin:0px;padding:16px;vertical-align:middle;\"><span style=\"color:#fafafa;\">buy_price</span></td>\n",
    "                <td style=\"border-bottom:0px initial initial;border-image:initial;border-left:0px initial initial;border-right:0px initial initial;border-top:1px solid rgb(218, 220, 224);color:rgb(217, 221, 232);font-family:inherit;font-size:14px;font-style:inherit;font-variant:inherit;font-weight:inherit;margin:0px;padding:16px;vertical-align:middle;\"><span style=\"color:#fafafa;\">Target Value</span></td>\n",
    "            </tr>\n",
    "        </tbody>\n",
    "    </table>\n",
    "</figure>"
   ]
  },
  {
   "cell_type": "markdown",
   "metadata": {},
   "source": [
    "* Remove NaN columns\n",
    "* Get sepecific columns for processing \n",
    "* Check if there are duplicate rows"
   ]
  },
  {
   "cell_type": "code",
   "execution_count": 9,
   "metadata": {},
   "outputs": [
    {
     "name": "stdout",
     "output_type": "stream",
     "text": [
      "<class 'pandas.core.frame.DataFrame'>\n",
      "RangeIndex: 21742 entries, 0 to 21741\n",
      "Data columns (total 48 columns):\n",
      " #   Column                        Non-Null Count  Dtype  \n",
      "---  ------                        --------------  -----  \n",
      " 0   Unnamed: 0                    21742 non-null  int64  \n",
      " 1   id                            21742 non-null  int64  \n",
      " 2   title                         21742 non-null  object \n",
      " 3   subtitle                      21742 non-null  object \n",
      " 4   sq_mt_built                   21616 non-null  float64\n",
      " 5   sq_mt_useful                  8228 non-null   float64\n",
      " 6   n_rooms                       21742 non-null  int64  \n",
      " 7   n_bathrooms                   21726 non-null  float64\n",
      " 8   n_floors                      1437 non-null   float64\n",
      " 9   sq_mt_allotment               1432 non-null   float64\n",
      " 10  raw_address                   16277 non-null  object \n",
      " 11  is_exact_address_hidden       21742 non-null  bool   \n",
      " 12  street_name                   15837 non-null  object \n",
      " 13  street_number                 6300 non-null   object \n",
      " 14  floor                         19135 non-null  object \n",
      " 15  is_floor_under                20572 non-null  object \n",
      " 16  neighborhood_id               21742 non-null  object \n",
      " 17  operation                     21742 non-null  object \n",
      " 18  rent_price                    21742 non-null  int64  \n",
      " 19  is_rent_price_known           21742 non-null  bool   \n",
      " 20  buy_price                     21742 non-null  int64  \n",
      " 21  buy_price_by_area             21742 non-null  int64  \n",
      " 22  is_buy_price_known            21742 non-null  bool   \n",
      " 23  house_type_id                 21351 non-null  object \n",
      " 24  is_renewal_needed             21742 non-null  bool   \n",
      " 25  is_new_development            20750 non-null  object \n",
      " 26  built_year                    10000 non-null  float64\n",
      " 27  has_central_heating           13608 non-null  object \n",
      " 28  has_individual_heating        13608 non-null  object \n",
      " 29  has_ac                        11211 non-null  object \n",
      " 30  has_fitted_wardrobes          13399 non-null  object \n",
      " 31  has_lift                      19356 non-null  object \n",
      " 32  is_exterior                   18699 non-null  object \n",
      " 33  has_garden                    1556 non-null   object \n",
      " 34  has_pool                      5171 non-null   object \n",
      " 35  has_terrace                   9548 non-null   object \n",
      " 36  has_balcony                   3321 non-null   object \n",
      " 37  has_storage_room              7698 non-null   object \n",
      " 38  is_accessible                 4074 non-null   object \n",
      " 39  has_green_zones               4057 non-null   object \n",
      " 40  energy_certificate            21742 non-null  object \n",
      " 41  has_parking                   21742 non-null  bool   \n",
      " 42  is_parking_included_in_price  7719 non-null   object \n",
      " 43  parking_price                 7719 non-null   float64\n",
      " 44  is_orientation_north          11358 non-null  object \n",
      " 45  is_orientation_west           11358 non-null  object \n",
      " 46  is_orientation_south          11358 non-null  object \n",
      " 47  is_orientation_east           11358 non-null  object \n",
      "dtypes: bool(5), float64(7), int64(6), object(30)\n",
      "memory usage: 7.2+ MB\n"
     ]
    }
   ],
   "source": [
    "# Drop columns with all null values\n",
    "data = data.dropna(axis=1, how= 'all') \n",
    "# Display DataFrame info after dropping empty columns\n",
    "data.info()"
   ]
  },
  {
   "cell_type": "code",
   "execution_count": 10,
   "metadata": {},
   "outputs": [
    {
     "data": {
      "text/plain": [
       "0"
      ]
     },
     "execution_count": 10,
     "metadata": {},
     "output_type": "execute_result"
    }
   ],
   "source": [
    "# Check for number of duplicated rows \n",
    "data.duplicated().sum()"
   ]
  },
  {
   "cell_type": "code",
   "execution_count": 11,
   "metadata": {},
   "outputs": [
    {
     "name": "stdout",
     "output_type": "stream",
     "text": [
      "<class 'pandas.core.frame.DataFrame'>\n",
      "RangeIndex: 21742 entries, 0 to 21741\n",
      "Data columns (total 13 columns):\n",
      " #   Column             Non-Null Count  Dtype  \n",
      "---  ------             --------------  -----  \n",
      " 0   id                 21742 non-null  int64  \n",
      " 1   subtitle           21742 non-null  object \n",
      " 2   sq_mt_built        21616 non-null  float64\n",
      " 3   sq_mt_useful       8228 non-null   float64\n",
      " 4   n_rooms            21742 non-null  int64  \n",
      " 5   n_bathrooms        21726 non-null  float64\n",
      " 6   n_floors           1437 non-null   float64\n",
      " 7   sq_mt_allotment    1432 non-null   float64\n",
      " 8   rent_price         21742 non-null  int64  \n",
      " 9   buy_price          21742 non-null  int64  \n",
      " 10  buy_price_by_area  21742 non-null  int64  \n",
      " 11  built_year         10000 non-null  float64\n",
      " 12  parking_price      7719 non-null   float64\n",
      "dtypes: float64(7), int64(5), object(1)\n",
      "memory usage: 2.2+ MB\n"
     ]
    }
   ],
   "source": [
    "# Select specific columns from the original dataset \n",
    "df = data[['id', 'subtitle', 'sq_mt_built', 'sq_mt_useful',\n",
    "       'n_rooms','n_bathrooms', 'n_floors','sq_mt_allotment', 'rent_price','buy_price', 'buy_price_by_area', 'built_year','parking_price']]\n",
    "df.info()"
   ]
  },
  {
   "cell_type": "code",
   "execution_count": 12,
   "metadata": {},
   "outputs": [],
   "source": [
    "# Rename the 'subtitle' column to 'city'\n",
    "df = df.rename(columns= {'subtitle':'city'})"
   ]
  },
  {
   "cell_type": "code",
   "execution_count": 58,
   "metadata": {},
   "outputs": [
    {
     "name": "stdout",
     "output_type": "stream",
     "text": [
      "<class 'pandas.core.frame.DataFrame'>\n",
      "RangeIndex: 21742 entries, 0 to 21741\n",
      "Data columns (total 8 columns):\n",
      " #   Column             Non-Null Count  Dtype  \n",
      "---  ------             --------------  -----  \n",
      " 0   id                 21742 non-null  int64  \n",
      " 1   city               21742 non-null  object \n",
      " 2   sq_mt_built        21616 non-null  float64\n",
      " 3   n_rooms            21742 non-null  int64  \n",
      " 4   n_bathrooms        21726 non-null  float64\n",
      " 5   rent_price         21742 non-null  int64  \n",
      " 6   buy_price          21742 non-null  int64  \n",
      " 7   buy_price_by_area  21742 non-null  int64  \n",
      "dtypes: float64(2), int64(5), object(1)\n",
      "memory usage: 1.3+ MB\n"
     ]
    }
   ],
   "source": [
    "# Select specific columns from the DataFrame for further analysis\n",
    "df = df[['id', 'city', 'sq_mt_built', 'n_rooms','n_bathrooms','rent_price','buy_price', 'buy_price_by_area']]\n",
    "df.info()"
   ]
  },
  {
   "cell_type": "code",
   "execution_count": 14,
   "metadata": {},
   "outputs": [
    {
     "data": {
      "text/plain": [
       "count   21,742.00\n",
       "mean         3.01\n",
       "std          1.51\n",
       "min          0.00\n",
       "25%          2.00\n",
       "50%          3.00\n",
       "75%          4.00\n",
       "max         24.00\n",
       "Name: n_rooms, dtype: float64"
      ]
     },
     "execution_count": 14,
     "metadata": {},
     "output_type": "execute_result"
    }
   ],
   "source": [
    "# Generate summary statistics for the 'n_rooms' column\n",
    "df.n_rooms.describe()"
   ]
  },
  {
   "cell_type": "code",
   "execution_count": 68,
   "metadata": {},
   "outputs": [],
   "source": [
    "# Remove rows with 0 rooms\n",
    "df.drop(df.index[df.n_rooms == 0] ,axis=0, inplace= True)"
   ]
  },
  {
   "cell_type": "code",
   "execution_count": 15,
   "metadata": {},
   "outputs": [
    {
     "data": {
      "text/plain": [
       "0   1.00\n",
       "Name: n_bathrooms, dtype: float64"
      ]
     },
     "execution_count": 15,
     "metadata": {},
     "output_type": "execute_result"
    }
   ],
   "source": [
    "# Get the most frequent value (mode) for the 'n_bathrooms' column\n",
    "df.n_bathrooms.mode()"
   ]
  },
  {
   "cell_type": "code",
   "execution_count": 70,
   "metadata": {},
   "outputs": [
    {
     "data": {
      "text/html": [
       "<div>\n",
       "<style scoped>\n",
       "    .dataframe tbody tr th:only-of-type {\n",
       "        vertical-align: middle;\n",
       "    }\n",
       "\n",
       "    .dataframe tbody tr th {\n",
       "        vertical-align: top;\n",
       "    }\n",
       "\n",
       "    .dataframe thead th {\n",
       "        text-align: right;\n",
       "    }\n",
       "</style>\n",
       "<table border=\"1\" class=\"dataframe\">\n",
       "  <thead>\n",
       "    <tr style=\"text-align: right;\">\n",
       "      <th></th>\n",
       "      <th>id</th>\n",
       "      <th>city</th>\n",
       "      <th>sq_mt_built</th>\n",
       "      <th>n_rooms</th>\n",
       "      <th>n_bathrooms</th>\n",
       "      <th>rent_price</th>\n",
       "      <th>buy_price</th>\n",
       "      <th>buy_price_by_area</th>\n",
       "    </tr>\n",
       "  </thead>\n",
       "  <tbody>\n",
       "    <tr>\n",
       "      <th>11624</th>\n",
       "      <td>10118</td>\n",
       "      <td>Gaztambide, Madrid</td>\n",
       "      <td>198.00</td>\n",
       "      <td>4</td>\n",
       "      <td>2.00</td>\n",
       "      <td>1536</td>\n",
       "      <td>1250000</td>\n",
       "      <td>6313</td>\n",
       "    </tr>\n",
       "    <tr>\n",
       "      <th>4694</th>\n",
       "      <td>17048</td>\n",
       "      <td>San Diego, Madrid</td>\n",
       "      <td>104.00</td>\n",
       "      <td>2</td>\n",
       "      <td>1.00</td>\n",
       "      <td>878</td>\n",
       "      <td>188000</td>\n",
       "      <td>1808</td>\n",
       "    </tr>\n",
       "    <tr>\n",
       "      <th>11822</th>\n",
       "      <td>9920</td>\n",
       "      <td>Gaztambide, Madrid</td>\n",
       "      <td>50.00</td>\n",
       "      <td>2</td>\n",
       "      <td>1.00</td>\n",
       "      <td>1225</td>\n",
       "      <td>310000</td>\n",
       "      <td>6200</td>\n",
       "    </tr>\n",
       "    <tr>\n",
       "      <th>6823</th>\n",
       "      <td>14919</td>\n",
       "      <td>Valdezarza, Madrid</td>\n",
       "      <td>74.00</td>\n",
       "      <td>3</td>\n",
       "      <td>1.00</td>\n",
       "      <td>1174</td>\n",
       "      <td>290000</td>\n",
       "      <td>3919</td>\n",
       "    </tr>\n",
       "    <tr>\n",
       "      <th>8055</th>\n",
       "      <td>13687</td>\n",
       "      <td>Moncloa, Madrid</td>\n",
       "      <td>143.00</td>\n",
       "      <td>3</td>\n",
       "      <td>3.00</td>\n",
       "      <td>2271</td>\n",
       "      <td>768000</td>\n",
       "      <td>5371</td>\n",
       "    </tr>\n",
       "    <tr>\n",
       "      <th>12767</th>\n",
       "      <td>8975</td>\n",
       "      <td>Ventas, Madrid</td>\n",
       "      <td>67.00</td>\n",
       "      <td>2</td>\n",
       "      <td>1.00</td>\n",
       "      <td>942</td>\n",
       "      <td>208000</td>\n",
       "      <td>3104</td>\n",
       "    </tr>\n",
       "    <tr>\n",
       "      <th>5448</th>\n",
       "      <td>16294</td>\n",
       "      <td>Palomeras Bajas, Madrid</td>\n",
       "      <td>72.00</td>\n",
       "      <td>3</td>\n",
       "      <td>1.00</td>\n",
       "      <td>625</td>\n",
       "      <td>119900</td>\n",
       "      <td>1665</td>\n",
       "    </tr>\n",
       "    <tr>\n",
       "      <th>13778</th>\n",
       "      <td>7964</td>\n",
       "      <td>ConcepciÃ³n, Madrid</td>\n",
       "      <td>56.00</td>\n",
       "      <td>1</td>\n",
       "      <td>1.00</td>\n",
       "      <td>743</td>\n",
       "      <td>149900</td>\n",
       "      <td>2677</td>\n",
       "    </tr>\n",
       "    <tr>\n",
       "      <th>16658</th>\n",
       "      <td>5084</td>\n",
       "      <td>Puerta Bonita, Madrid</td>\n",
       "      <td>74.00</td>\n",
       "      <td>3</td>\n",
       "      <td>1.00</td>\n",
       "      <td>736</td>\n",
       "      <td>148000</td>\n",
       "      <td>2000</td>\n",
       "    </tr>\n",
       "    <tr>\n",
       "      <th>6166</th>\n",
       "      <td>15576</td>\n",
       "      <td>Aluche, Madrid</td>\n",
       "      <td>58.00</td>\n",
       "      <td>2</td>\n",
       "      <td>1.00</td>\n",
       "      <td>592</td>\n",
       "      <td>112000</td>\n",
       "      <td>1931</td>\n",
       "    </tr>\n",
       "  </tbody>\n",
       "</table>\n",
       "</div>"
      ],
      "text/plain": [
       "          id                     city  sq_mt_built  n_rooms  n_bathrooms  \\\n",
       "11624  10118       Gaztambide, Madrid       198.00        4         2.00   \n",
       "4694   17048        San Diego, Madrid       104.00        2         1.00   \n",
       "11822   9920       Gaztambide, Madrid        50.00        2         1.00   \n",
       "6823   14919       Valdezarza, Madrid        74.00        3         1.00   \n",
       "8055   13687          Moncloa, Madrid       143.00        3         3.00   \n",
       "12767   8975           Ventas, Madrid        67.00        2         1.00   \n",
       "5448   16294  Palomeras Bajas, Madrid        72.00        3         1.00   \n",
       "13778   7964      ConcepciÃ³n, Madrid        56.00        1         1.00   \n",
       "16658   5084    Puerta Bonita, Madrid        74.00        3         1.00   \n",
       "6166   15576           Aluche, Madrid        58.00        2         1.00   \n",
       "\n",
       "       rent_price  buy_price  buy_price_by_area  \n",
       "11624        1536    1250000               6313  \n",
       "4694          878     188000               1808  \n",
       "11822        1225     310000               6200  \n",
       "6823         1174     290000               3919  \n",
       "8055         2271     768000               5371  \n",
       "12767         942     208000               3104  \n",
       "5448          625     119900               1665  \n",
       "13778         743     149900               2677  \n",
       "16658         736     148000               2000  \n",
       "6166          592     112000               1931  "
      ]
     },
     "execution_count": 70,
     "metadata": {},
     "output_type": "execute_result"
    }
   ],
   "source": [
    "df.sample(10)"
   ]
  },
  {
   "cell_type": "code",
   "execution_count": 16,
   "metadata": {},
   "outputs": [],
   "source": [
    "# Fill missing values (NaN) in the 'n_bathrooms' column with 1 which is the most frequent value\n",
    "df.n_bathrooms = df.n_bathrooms.fillna(1)\n",
    "# Replace 0 values in the 'n_bathrooms' column with 1\n",
    "df.n_bathrooms = df.n_bathrooms.replace(0, 1)"
   ]
  },
  {
   "cell_type": "code",
   "execution_count": 17,
   "metadata": {},
   "outputs": [
    {
     "name": "stdout",
     "output_type": "stream",
     "text": [
      "<class 'pandas.core.frame.DataFrame'>\n",
      "RangeIndex: 21742 entries, 0 to 21741\n",
      "Data columns (total 13 columns):\n",
      " #   Column             Non-Null Count  Dtype  \n",
      "---  ------             --------------  -----  \n",
      " 0   id                 21742 non-null  int64  \n",
      " 1   city               21742 non-null  object \n",
      " 2   sq_mt_built        21616 non-null  float64\n",
      " 3   sq_mt_useful       8228 non-null   float64\n",
      " 4   n_rooms            21742 non-null  int64  \n",
      " 5   n_bathrooms        21742 non-null  float64\n",
      " 6   n_floors           1437 non-null   float64\n",
      " 7   sq_mt_allotment    1432 non-null   float64\n",
      " 8   rent_price         21742 non-null  int64  \n",
      " 9   buy_price          21742 non-null  int64  \n",
      " 10  buy_price_by_area  21742 non-null  int64  \n",
      " 11  built_year         10000 non-null  float64\n",
      " 12  parking_price      7719 non-null   float64\n",
      "dtypes: float64(7), int64(5), object(1)\n",
      "memory usage: 2.2+ MB\n"
     ]
    }
   ],
   "source": [
    "df.info()"
   ]
  },
  {
   "cell_type": "code",
   "execution_count": 18,
   "metadata": {},
   "outputs": [],
   "source": [
    "# Drop sq_mt_built NaN rows\n",
    "df.dropna(subset='sq_mt_built', inplace=True)"
   ]
  },
  {
   "cell_type": "code",
   "execution_count": 19,
   "metadata": {},
   "outputs": [
    {
     "name": "stdout",
     "output_type": "stream",
     "text": [
      "<class 'pandas.core.frame.DataFrame'>\n",
      "Index: 21616 entries, 0 to 21741\n",
      "Data columns (total 13 columns):\n",
      " #   Column             Non-Null Count  Dtype  \n",
      "---  ------             --------------  -----  \n",
      " 0   id                 21616 non-null  int64  \n",
      " 1   city               21616 non-null  object \n",
      " 2   sq_mt_built        21616 non-null  float64\n",
      " 3   sq_mt_useful       8210 non-null   float64\n",
      " 4   n_rooms            21616 non-null  int64  \n",
      " 5   n_bathrooms        21616 non-null  float64\n",
      " 6   n_floors           1355 non-null   float64\n",
      " 7   sq_mt_allotment    1322 non-null   float64\n",
      " 8   rent_price         21616 non-null  int64  \n",
      " 9   buy_price          21616 non-null  int64  \n",
      " 10  buy_price_by_area  21616 non-null  int64  \n",
      " 11  built_year         9946 non-null   float64\n",
      " 12  parking_price      7617 non-null   float64\n",
      "dtypes: float64(7), int64(5), object(1)\n",
      "memory usage: 2.3+ MB\n"
     ]
    }
   ],
   "source": [
    "df.info()"
   ]
  },
  {
   "cell_type": "code",
   "execution_count": 20,
   "metadata": {},
   "outputs": [
    {
     "data": {
      "text/html": [
       "<div>\n",
       "<style scoped>\n",
       "    .dataframe tbody tr th:only-of-type {\n",
       "        vertical-align: middle;\n",
       "    }\n",
       "\n",
       "    .dataframe tbody tr th {\n",
       "        vertical-align: top;\n",
       "    }\n",
       "\n",
       "    .dataframe thead th {\n",
       "        text-align: right;\n",
       "    }\n",
       "</style>\n",
       "<table border=\"1\" class=\"dataframe\">\n",
       "  <thead>\n",
       "    <tr style=\"text-align: right;\">\n",
       "      <th></th>\n",
       "      <th>id</th>\n",
       "      <th>city</th>\n",
       "      <th>sq_mt_built</th>\n",
       "      <th>sq_mt_useful</th>\n",
       "      <th>n_rooms</th>\n",
       "      <th>n_bathrooms</th>\n",
       "      <th>n_floors</th>\n",
       "      <th>sq_mt_allotment</th>\n",
       "      <th>rent_price</th>\n",
       "      <th>buy_price</th>\n",
       "      <th>buy_price_by_area</th>\n",
       "      <th>built_year</th>\n",
       "      <th>parking_price</th>\n",
       "    </tr>\n",
       "  </thead>\n",
       "  <tbody>\n",
       "    <tr>\n",
       "      <th>8536</th>\n",
       "      <td>13206</td>\n",
       "      <td>PeÃ±agrande, Madrid</td>\n",
       "      <td>61.00</td>\n",
       "      <td>60.00</td>\n",
       "      <td>3</td>\n",
       "      <td>1.00</td>\n",
       "      <td>NaN</td>\n",
       "      <td>NaN</td>\n",
       "      <td>917</td>\n",
       "      <td>200000</td>\n",
       "      <td>3279</td>\n",
       "      <td>NaN</td>\n",
       "      <td>NaN</td>\n",
       "    </tr>\n",
       "    <tr>\n",
       "      <th>8636</th>\n",
       "      <td>13106</td>\n",
       "      <td>Las Tablas, Madrid</td>\n",
       "      <td>134.00</td>\n",
       "      <td>NaN</td>\n",
       "      <td>3</td>\n",
       "      <td>3.00</td>\n",
       "      <td>NaN</td>\n",
       "      <td>NaN</td>\n",
       "      <td>2020</td>\n",
       "      <td>653165</td>\n",
       "      <td>4874</td>\n",
       "      <td>NaN</td>\n",
       "      <td>0.00</td>\n",
       "    </tr>\n",
       "    <tr>\n",
       "      <th>21321</th>\n",
       "      <td>421</td>\n",
       "      <td>Almendrales, Madrid</td>\n",
       "      <td>76.00</td>\n",
       "      <td>70.00</td>\n",
       "      <td>3</td>\n",
       "      <td>1.00</td>\n",
       "      <td>NaN</td>\n",
       "      <td>NaN</td>\n",
       "      <td>1177</td>\n",
       "      <td>291000</td>\n",
       "      <td>3829</td>\n",
       "      <td>1,972.00</td>\n",
       "      <td>NaN</td>\n",
       "    </tr>\n",
       "    <tr>\n",
       "      <th>6331</th>\n",
       "      <td>15411</td>\n",
       "      <td>Latina, Madrid</td>\n",
       "      <td>62.00</td>\n",
       "      <td>NaN</td>\n",
       "      <td>3</td>\n",
       "      <td>1.00</td>\n",
       "      <td>NaN</td>\n",
       "      <td>NaN</td>\n",
       "      <td>740</td>\n",
       "      <td>149000</td>\n",
       "      <td>2403</td>\n",
       "      <td>NaN</td>\n",
       "      <td>NaN</td>\n",
       "    </tr>\n",
       "    <tr>\n",
       "      <th>4842</th>\n",
       "      <td>16900</td>\n",
       "      <td>San Diego, Madrid</td>\n",
       "      <td>75.00</td>\n",
       "      <td>NaN</td>\n",
       "      <td>3</td>\n",
       "      <td>1.00</td>\n",
       "      <td>NaN</td>\n",
       "      <td>NaN</td>\n",
       "      <td>662</td>\n",
       "      <td>129000</td>\n",
       "      <td>1720</td>\n",
       "      <td>NaN</td>\n",
       "      <td>NaN</td>\n",
       "    </tr>\n",
       "    <tr>\n",
       "      <th>12327</th>\n",
       "      <td>9415</td>\n",
       "      <td>Gaztambide, Madrid</td>\n",
       "      <td>121.00</td>\n",
       "      <td>95.00</td>\n",
       "      <td>3</td>\n",
       "      <td>2.00</td>\n",
       "      <td>NaN</td>\n",
       "      <td>NaN</td>\n",
       "      <td>1955</td>\n",
       "      <td>625000</td>\n",
       "      <td>5165</td>\n",
       "      <td>1,950.00</td>\n",
       "      <td>NaN</td>\n",
       "    </tr>\n",
       "    <tr>\n",
       "      <th>1981</th>\n",
       "      <td>19761</td>\n",
       "      <td>Orcasitas, Madrid</td>\n",
       "      <td>130.00</td>\n",
       "      <td>81.00</td>\n",
       "      <td>3</td>\n",
       "      <td>2.00</td>\n",
       "      <td>NaN</td>\n",
       "      <td>NaN</td>\n",
       "      <td>1122</td>\n",
       "      <td>270000</td>\n",
       "      <td>2077</td>\n",
       "      <td>2,000.00</td>\n",
       "      <td>0.00</td>\n",
       "    </tr>\n",
       "    <tr>\n",
       "      <th>6210</th>\n",
       "      <td>15532</td>\n",
       "      <td>Los CÃ¡rmenes, Madrid</td>\n",
       "      <td>120.00</td>\n",
       "      <td>118.00</td>\n",
       "      <td>4</td>\n",
       "      <td>2.00</td>\n",
       "      <td>2.00</td>\n",
       "      <td>NaN</td>\n",
       "      <td>933</td>\n",
       "      <td>205000</td>\n",
       "      <td>1708</td>\n",
       "      <td>NaN</td>\n",
       "      <td>NaN</td>\n",
       "    </tr>\n",
       "    <tr>\n",
       "      <th>14368</th>\n",
       "      <td>7374</td>\n",
       "      <td>Prosperidad, Madrid</td>\n",
       "      <td>146.00</td>\n",
       "      <td>145.00</td>\n",
       "      <td>4</td>\n",
       "      <td>2.00</td>\n",
       "      <td>NaN</td>\n",
       "      <td>NaN</td>\n",
       "      <td>1848</td>\n",
       "      <td>579000</td>\n",
       "      <td>3966</td>\n",
       "      <td>1,970.00</td>\n",
       "      <td>10,000.00</td>\n",
       "    </tr>\n",
       "    <tr>\n",
       "      <th>7414</th>\n",
       "      <td>14328</td>\n",
       "      <td>Aravaca, Madrid</td>\n",
       "      <td>310.00</td>\n",
       "      <td>NaN</td>\n",
       "      <td>7</td>\n",
       "      <td>4.00</td>\n",
       "      <td>4.00</td>\n",
       "      <td>NaN</td>\n",
       "      <td>2012</td>\n",
       "      <td>650000</td>\n",
       "      <td>2097</td>\n",
       "      <td>NaN</td>\n",
       "      <td>0.00</td>\n",
       "    </tr>\n",
       "  </tbody>\n",
       "</table>\n",
       "</div>"
      ],
      "text/plain": [
       "          id                   city  sq_mt_built  sq_mt_useful  n_rooms  \\\n",
       "8536   13206    PeÃ±agrande, Madrid        61.00         60.00        3   \n",
       "8636   13106     Las Tablas, Madrid       134.00           NaN        3   \n",
       "21321    421    Almendrales, Madrid        76.00         70.00        3   \n",
       "6331   15411         Latina, Madrid        62.00           NaN        3   \n",
       "4842   16900      San Diego, Madrid        75.00           NaN        3   \n",
       "12327   9415     Gaztambide, Madrid       121.00         95.00        3   \n",
       "1981   19761      Orcasitas, Madrid       130.00         81.00        3   \n",
       "6210   15532  Los CÃ¡rmenes, Madrid       120.00        118.00        4   \n",
       "14368   7374    Prosperidad, Madrid       146.00        145.00        4   \n",
       "7414   14328        Aravaca, Madrid       310.00           NaN        7   \n",
       "\n",
       "       n_bathrooms  n_floors  sq_mt_allotment  rent_price  buy_price  \\\n",
       "8536          1.00       NaN              NaN         917     200000   \n",
       "8636          3.00       NaN              NaN        2020     653165   \n",
       "21321         1.00       NaN              NaN        1177     291000   \n",
       "6331          1.00       NaN              NaN         740     149000   \n",
       "4842          1.00       NaN              NaN         662     129000   \n",
       "12327         2.00       NaN              NaN        1955     625000   \n",
       "1981          2.00       NaN              NaN        1122     270000   \n",
       "6210          2.00      2.00              NaN         933     205000   \n",
       "14368         2.00       NaN              NaN        1848     579000   \n",
       "7414          4.00      4.00              NaN        2012     650000   \n",
       "\n",
       "       buy_price_by_area  built_year  parking_price  \n",
       "8536                3279         NaN            NaN  \n",
       "8636                4874         NaN           0.00  \n",
       "21321               3829    1,972.00            NaN  \n",
       "6331                2403         NaN            NaN  \n",
       "4842                1720         NaN            NaN  \n",
       "12327               5165    1,950.00            NaN  \n",
       "1981                2077    2,000.00           0.00  \n",
       "6210                1708         NaN            NaN  \n",
       "14368               3966    1,970.00      10,000.00  \n",
       "7414                2097         NaN           0.00  "
      ]
     },
     "execution_count": 20,
     "metadata": {},
     "output_type": "execute_result"
    }
   ],
   "source": [
    "df.sample(10)"
   ]
  },
  {
   "cell_type": "code",
   "execution_count": 22,
   "metadata": {},
   "outputs": [],
   "source": [
    "# Replace negative values in the 'rent_price' column with 0\n",
    "df.rent_price = df.rent_price.apply(lambda x: 0 if x < 0 else x)"
   ]
  },
  {
   "cell_type": "code",
   "execution_count": 23,
   "metadata": {},
   "outputs": [
    {
     "data": {
      "text/plain": [
       "id                   0\n",
       "city                 0\n",
       "sq_mt_built          0\n",
       "sq_mt_useful         0\n",
       "n_rooms              0\n",
       "n_bathrooms          0\n",
       "n_floors             0\n",
       "sq_mt_allotment      0\n",
       "rent_price           0\n",
       "buy_price            0\n",
       "buy_price_by_area    0\n",
       "built_year           0\n",
       "parking_price        0\n",
       "dtype: int64"
      ]
     },
     "execution_count": 23,
     "metadata": {},
     "output_type": "execute_result"
    }
   ],
   "source": [
    "# check if still there is negative values\n",
    "df[df['rent_price'] < 0].count()"
   ]
  },
  {
   "cell_type": "code",
   "execution_count": 24,
   "metadata": {},
   "outputs": [],
   "source": [
    "# split district column by comma\n",
    "df['district'] = df.city.str.split(',', expand= True)[0]"
   ]
  },
  {
   "cell_type": "code",
   "execution_count": 25,
   "metadata": {},
   "outputs": [
    {
     "data": {
      "text/html": [
       "<div>\n",
       "<style scoped>\n",
       "    .dataframe tbody tr th:only-of-type {\n",
       "        vertical-align: middle;\n",
       "    }\n",
       "\n",
       "    .dataframe tbody tr th {\n",
       "        vertical-align: top;\n",
       "    }\n",
       "\n",
       "    .dataframe thead th {\n",
       "        text-align: right;\n",
       "    }\n",
       "</style>\n",
       "<table border=\"1\" class=\"dataframe\">\n",
       "  <thead>\n",
       "    <tr style=\"text-align: right;\">\n",
       "      <th></th>\n",
       "      <th>id</th>\n",
       "      <th>district</th>\n",
       "      <th>sq_mt_built</th>\n",
       "      <th>n_rooms</th>\n",
       "      <th>n_bathrooms</th>\n",
       "      <th>rent_price</th>\n",
       "      <th>buy_price</th>\n",
       "      <th>buy_price_by_area</th>\n",
       "    </tr>\n",
       "  </thead>\n",
       "  <tbody>\n",
       "    <tr>\n",
       "      <th>0</th>\n",
       "      <td>21742</td>\n",
       "      <td>San CristÃ³bal</td>\n",
       "      <td>64.00</td>\n",
       "      <td>2</td>\n",
       "      <td>1.00</td>\n",
       "      <td>471</td>\n",
       "      <td>85000</td>\n",
       "      <td>1328</td>\n",
       "    </tr>\n",
       "    <tr>\n",
       "      <th>1</th>\n",
       "      <td>21741</td>\n",
       "      <td>Los Ãngeles</td>\n",
       "      <td>70.00</td>\n",
       "      <td>3</td>\n",
       "      <td>1.00</td>\n",
       "      <td>666</td>\n",
       "      <td>129900</td>\n",
       "      <td>1856</td>\n",
       "    </tr>\n",
       "    <tr>\n",
       "      <th>2</th>\n",
       "      <td>21740</td>\n",
       "      <td>San AndrÃ©s</td>\n",
       "      <td>94.00</td>\n",
       "      <td>2</td>\n",
       "      <td>2.00</td>\n",
       "      <td>722</td>\n",
       "      <td>144247</td>\n",
       "      <td>1535</td>\n",
       "    </tr>\n",
       "    <tr>\n",
       "      <th>3</th>\n",
       "      <td>21739</td>\n",
       "      <td>San AndrÃ©s</td>\n",
       "      <td>64.00</td>\n",
       "      <td>2</td>\n",
       "      <td>1.00</td>\n",
       "      <td>583</td>\n",
       "      <td>109900</td>\n",
       "      <td>1717</td>\n",
       "    </tr>\n",
       "    <tr>\n",
       "      <th>4</th>\n",
       "      <td>21738</td>\n",
       "      <td>Los Rosales</td>\n",
       "      <td>108.00</td>\n",
       "      <td>2</td>\n",
       "      <td>2.00</td>\n",
       "      <td>1094</td>\n",
       "      <td>260000</td>\n",
       "      <td>2407</td>\n",
       "    </tr>\n",
       "  </tbody>\n",
       "</table>\n",
       "</div>"
      ],
      "text/plain": [
       "      id        district  sq_mt_built  n_rooms  n_bathrooms  rent_price  \\\n",
       "0  21742  San CristÃ³bal        64.00        2         1.00         471   \n",
       "1  21741    Los Ãngeles        70.00        3         1.00         666   \n",
       "2  21740     San AndrÃ©s        94.00        2         2.00         722   \n",
       "3  21739     San AndrÃ©s        64.00        2         1.00         583   \n",
       "4  21738     Los Rosales       108.00        2         2.00        1094   \n",
       "\n",
       "   buy_price  buy_price_by_area  \n",
       "0      85000               1328  \n",
       "1     129900               1856  \n",
       "2     144247               1535  \n",
       "3     109900               1717  \n",
       "4     260000               2407  "
      ]
     },
     "execution_count": 25,
     "metadata": {},
     "output_type": "execute_result"
    }
   ],
   "source": [
    "df = df[['id', 'district', 'sq_mt_built', 'n_rooms', 'n_bathrooms', 'rent_price',\n",
    "       'buy_price', 'buy_price_by_area']]\n",
    "df.head()"
   ]
  },
  {
   "cell_type": "code",
   "execution_count": 27,
   "metadata": {},
   "outputs": [
    {
     "data": {
      "text/plain": [
       "array(['sale'], dtype=object)"
      ]
     },
     "execution_count": 27,
     "metadata": {},
     "output_type": "execute_result"
    }
   ],
   "source": [
    "# Get all unique values present in the 'operation' column to check for any other values\n",
    "data['operation'].unique()"
   ]
  },
  {
   "cell_type": "code",
   "execution_count": 29,
   "metadata": {},
   "outputs": [
    {
     "data": {
      "text/plain": [
       "array([ True])"
      ]
     },
     "execution_count": 29,
     "metadata": {},
     "output_type": "execute_result"
    }
   ],
   "source": [
    "# Get all unique values\n",
    "data['is_buy_price_known'].unique()"
   ]
  },
  {
   "cell_type": "code",
   "execution_count": 30,
   "metadata": {},
   "outputs": [
    {
     "data": {
      "text/plain": [
       "array(['HouseType 1: Pisos', 'HouseType 4: DÃºplex', nan,\n",
       "       'HouseType 5: Ã\\x81ticos', 'HouseType 2: Casa o chalet'],\n",
       "      dtype=object)"
      ]
     },
     "execution_count": 30,
     "metadata": {},
     "output_type": "execute_result"
    }
   ],
   "source": [
    "# Get all unique values\n",
    "data.house_type_id.unique()"
   ]
  },
  {
   "cell_type": "code",
   "execution_count": 31,
   "metadata": {},
   "outputs": [],
   "source": [
    "# Remove the 'rent_price' column from the DataFrame as it's no longer needed\n",
    "df.drop(columns= ['rent_price'], inplace= True)"
   ]
  },
  {
   "cell_type": "code",
   "execution_count": 32,
   "metadata": {},
   "outputs": [],
   "source": [
    "df.to_csv('madrid_cleaned_data.csv')"
   ]
  },
  {
   "cell_type": "code",
   "execution_count": 34,
   "metadata": {},
   "outputs": [
    {
     "name": "stdout",
     "output_type": "stream",
     "text": [
      "<class 'pandas.core.frame.DataFrame'>\n",
      "RangeIndex: 17452 entries, 0 to 17451\n",
      "Data columns (total 7 columns):\n",
      " #   Column             Non-Null Count  Dtype  \n",
      "---  ------             --------------  -----  \n",
      " 0   id                 17452 non-null  int64  \n",
      " 1   district           17452 non-null  object \n",
      " 2   sq_mt_built        17452 non-null  float64\n",
      " 3   n_rooms            17452 non-null  int64  \n",
      " 4   n_bathrooms        17452 non-null  int64  \n",
      " 5   buy_price          17452 non-null  int64  \n",
      " 6   buy_price_by_area  17452 non-null  int64  \n",
      "dtypes: float64(1), int64(5), object(1)\n",
      "memory usage: 954.5+ KB\n"
     ]
    }
   ],
   "source": [
    "df = pd.read_csv('Madrid_cleaned_data (1).csv', encoding='ISO-8859-1')\n",
    "# df['n_bathrooms'] = df['n_bathrooms'].astype('int64')\n",
    "df.info()"
   ]
  },
  {
   "cell_type": "markdown",
   "metadata": {},
   "source": [
    "### Univariate Analysis "
   ]
  },
  {
   "cell_type": "code",
   "execution_count": 35,
   "metadata": {},
   "outputs": [
    {
     "data": {
      "image/png": "[encoded data removed]",
      "text/plain": [
       "<Figure size 2000x800 with 5 Axes>"
      ]
     },
     "metadata": {},
     "output_type": "display_data"
    }
   ],
   "source": [
    "# Create subplots for each numerical column (starting from the 3rd column) \n",
    "# to display histograms with KDE for distribution visualization\n",
    "plt.figure(figsize=(20,8))\n",
    "for index, columname in enumerate(df.columns[2:]):\n",
    "    plt.subplot(2,3, index + 1)\n",
    "    sns.histplot(df[columname], kde= True)\n",
    "    plt.title('Distribuation of ' + columname)\n",
    "    plt.tight_layout() "
   ]
  },
  {
   "cell_type": "code",
   "execution_count": 36,
   "metadata": {},
   "outputs": [
    {
     "data": {
      "image/png": "[encoded data removed]",
      "text/plain": [
       "<Figure size 2000x800 with 5 Axes>"
      ]
     },
     "metadata": {},
     "output_type": "display_data"
    }
   ],
   "source": [
    "# Create subplots for each numerical column (starting from the 3rd column) \n",
    "# to display boxen plots for distribution visualization\n",
    "plt.figure(figsize=(20,8))\n",
    "for index, columname in enumerate(df.columns[2:]):\n",
    "    plt.subplot(2,3, index + 1)\n",
    "    sns.boxenplot(x= df[columname])\n",
    "    plt.title('Distribuation of ' + columname) \n",
    "    plt.tight_layout()"
   ]
  },
  {
   "cell_type": "code",
   "execution_count": 37,
   "metadata": {},
   "outputs": [
    {
     "data": {
      "application/vnd.plotly.v1+json": {
       "config": {
        "plotlyServerURL": "https://plot.ly"
       },
       "data": [
        {
         "alignmentgroup": "True",
         "hovertemplate": "variable=count<br>district=%{x}<br>value=%{y}<extra></extra>",
         "legendgroup": "count",
         "marker": {
          "color": "#636efa",
          "pattern": {
           "shape": ""
          }
         },
         "name": "count",
         "offsetgroup": "count",
         "orientation": "v",
         "showlegend": true,
         "textposition": "auto",
         "type": "bar",
         "x": [
          "ChamartÃ­n",
          "Centro",
          "Moncloa",
          "ChamberÃ­",
          "MalasaÃ±a-Universidad",
          "Fuencarral",
          "LavapiÃ©s-Embajadores",
          "Prosperidad",
          "Hortaleza",
          "Ensanche de Vallecas - La Gavia",
          "TetuÃ¡n",
          "Barrio de Salamanca",
          "El CaÃ±averal - Los Berrocales",
          "Pueblo Nuevo",
          "Ciudad Lineal",
          "Cuatro Caminos",
          "ArgÃ¼elles",
          "Trafalgar",
          "Ventas",
          "PeÃ±agrande",
          "Sanchinarro",
          "Valdeacederas",
          "Gaztambide",
          "Chueca-Justicia",
          "Bellas Vistas",
          "Nuevos Ministerios-RÃ­os Rosas",
          "Delicias",
          "San Isidro",
          "Retiro",
          "PacÃ­fico",
          "Palacio",
          "BernabÃ©u-HispanoamÃ©rica",
          "Arapiles",
          "Pinar del Rey",
          "Goya",
          "Acacias",
          "Cuzco-Castillejos",
          "Vista Alegre",
          "Aravaca",
          "Puerta del Ãngel",
          "Butarque",
          "Valdebebas - Valdefuentes",
          "Vallehermoso",
          "Canillas",
          "Imperial",
          "Berruguete",
          "Palos de Moguer",
          "San AndrÃ©s",
          "Guindalera",
          "Carabanchel",
          "Legazpi",
          "Chopera",
          "Valdezarza",
          "OpaÃ±el",
          "Ibiza",
          "Numancia",
          "Almagro",
          "Puerta Bonita",
          "Abrantes",
          "Adelfas",
          "Arganzuela",
          "Quintana",
          "Pilar",
          "San Diego",
          "Palomeras sureste",
          "El Viso",
          "Aluche",
          "ConcepciÃ³n",
          "Comillas",
          "Las Tablas",
          "Castilla",
          "Lucero",
          "Ciudad Universitaria",
          "Estrella",
          "Costillares",
          "Nueva EspaÃ±a",
          "Usera",
          "Huertas-Cortes",
          "La Paz",
          "MoscardÃ³",
          "Casco HistÃ³rico de Vallecas",
          "Puente de Vallecas",
          "Almendrales",
          "Ciudad JardÃ­n",
          "Lista",
          "Ventilla-Almenara",
          "Conde Orgaz-Piovera",
          "Tres Olivos - Valverde",
          "Palomeras Bajas",
          "Buena Vista",
          "San Pascual",
          "Los Rosales",
          "Pau de Carabanchel",
          "Mirasierra",
          "Latina",
          "Marroquina",
          "Sol",
          "Montecarmelo",
          "Villa de Vallecas",
          "Colina",
          "Palomas",
          "Los CÃ¡rmenes",
          "Casa de Campo",
          "San Juan Bautista",
          "FontarrÃ³n",
          "San FermÃ­n",
          "Los Ãngeles",
          "Casco HistÃ³rico de VicÃ¡lvaro",
          "Villaverde",
          "ValdemarÃ­n",
          "Castellana",
          "Orcasitas",
          "ApÃ³stol Santiago",
          "Pradolongo",
          "Ãguilas",
          "EntrevÃ­as",
          "Fuente del Berro",
          "Santa Eugenia",
          "Virgen del Cortijo - Manoteras",
          "VicÃ¡lvaro",
          "Valdebernardo - Valderribas",
          "JerÃ³nimos",
          "Portazgo",
          "Vinateros",
          "Recoletos",
          "12 de Octubre-Orcasur",
          "Moratalaz",
          "Ambroz",
          "Campamento",
          "Media Legua",
          "ZofÃ­o",
          "Fuentelarreina",
          "NiÃ±o JesÃºs",
          "Atalaya",
          "El PlantÃ­o",
          "Arroyo del Fresno",
          "Pavones",
          "Alameda de Osuna",
          "El Pardo",
          "Horcajo",
          "San CristÃ³bal",
          "Barajas",
          "Campo de las Naciones-Corralejos",
          "Casco HistÃ³rico de Barajas",
          "TimÃ³n",
          "Cuatro Vientos"
         ],
         "xaxis": "x",
         "y": [
          498,
          470,
          455,
          399,
          334,
          306,
          297,
          291,
          290,
          289,
          284,
          274,
          266,
          258,
          254,
          236,
          227,
          221,
          212,
          211,
          202,
          197,
          196,
          196,
          194,
          188,
          177,
          175,
          174,
          174,
          173,
          167,
          165,
          164,
          161,
          156,
          151,
          149,
          146,
          146,
          144,
          142,
          141,
          141,
          140,
          140,
          137,
          135,
          135,
          133,
          130,
          129,
          128,
          126,
          125,
          121,
          121,
          118,
          116,
          115,
          112,
          109,
          109,
          109,
          107,
          107,
          106,
          105,
          103,
          103,
          103,
          100,
          98,
          97,
          97,
          96,
          93,
          93,
          93,
          91,
          89,
          88,
          88,
          86,
          84,
          84,
          83,
          81,
          79,
          77,
          77,
          76,
          76,
          69,
          69,
          68,
          68,
          67,
          67,
          64,
          63,
          63,
          63,
          62,
          60,
          59,
          59,
          58,
          56,
          55,
          55,
          54,
          53,
          53,
          52,
          50,
          49,
          48,
          45,
          45,
          44,
          42,
          41,
          41,
          40,
          39,
          38,
          36,
          35,
          35,
          33,
          33,
          31,
          27,
          25,
          20,
          12,
          12,
          11,
          11,
          9,
          7,
          6,
          5,
          4,
          2
         ],
         "yaxis": "y"
        }
       ],
       "layout": {
        "barmode": "relative",
        "legend": {
         "title": {
          "text": "variable"
         },
         "tracegroupgap": 0
        },
        "template": {
         "data": {
          "bar": [
           {
            "error_x": {
             "color": "#2a3f5f"
            },
            "error_y": {
             "color": "#2a3f5f"
            },
            "marker": {
             "line": {
              "color": "#E5ECF6",
              "width": 0.5
             },
             "pattern": {
              "fillmode": "overlay",
              "size": 10,
              "solidity": 0.2
             }
            },
            "type": "bar"
           }
          ],
          "barpolar": [
           {
            "marker": {
             "line": {
              "color": "#E5ECF6",
              "width": 0.5
             },
             "pattern": {
              "fillmode": "overlay",
              "size": 10,
              "solidity": 0.2
             }
            },
            "type": "barpolar"
           }
          ],
          "carpet": [
           {
            "aaxis": {
             "endlinecolor": "#2a3f5f",
             "gridcolor": "white",
             "linecolor": "white",
             "minorgridcolor": "white",
             "startlinecolor": "#2a3f5f"
            },
            "baxis": {
             "endlinecolor": "#2a3f5f",
             "gridcolor": "white",
             "linecolor": "white",
             "minorgridcolor": "white",
             "startlinecolor": "#2a3f5f"
            },
            "type": "carpet"
           }
          ],
          "choropleth": [
           {
            "colorbar": {
             "outlinewidth": 0,
             "ticks": ""
            },
            "type": "choropleth"
           }
          ],
          "contour": [
           {
            "colorbar": {
             "outlinewidth": 0,
             "ticks": ""
            },
            "colorscale": [
             [
              0,
              "#0d0887"
             ],
             [
              0.1111111111111111,
              "#46039f"
             ],
             [
              0.2222222222222222,
              "#7201a8"
             ],
             [
              0.3333333333333333,
              "#9c179e"
             ],
             [
              0.4444444444444444,
              "#bd3786"
             ],
             [
              0.5555555555555556,
              "#d8576b"
             ],
             [
              0.6666666666666666,
              "#ed7953"
             ],
             [
              0.7777777777777778,
              "#fb9f3a"
             ],
             [
              0.8888888888888888,
              "#fdca26"
             ],
             [
              1,
              "#f0f921"
             ]
            ],
            "type": "contour"
           }
          ],
          "contourcarpet": [
           {
            "colorbar": {
             "outlinewidth": 0,
             "ticks": ""
            },
            "type": "contourcarpet"
           }
          ],
          "heatmap": [
           {
            "colorbar": {
             "outlinewidth": 0,
             "ticks": ""
            },
            "colorscale": [
             [
              0,
              "#0d0887"
             ],
             [
              0.1111111111111111,
              "#46039f"
             ],
             [
              0.2222222222222222,
              "#7201a8"
             ],
             [
              0.3333333333333333,
              "#9c179e"
             ],
             [
              0.4444444444444444,
              "#bd3786"
             ],
             [
              0.5555555555555556,
              "#d8576b"
             ],
             [
              0.6666666666666666,
              "#ed7953"
             ],
             [
              0.7777777777777778,
              "#fb9f3a"
             ],
             [
              0.8888888888888888,
              "#fdca26"
             ],
             [
              1,
              "#f0f921"
             ]
            ],
            "type": "heatmap"
           }
          ],
          "heatmapgl": [
           {
            "colorbar": {
             "outlinewidth": 0,
             "ticks": ""
            },
            "colorscale": [
             [
              0,
              "#0d0887"
             ],
             [
              0.1111111111111111,
              "#46039f"
             ],
             [
              0.2222222222222222,
              "#7201a8"
             ],
             [
              0.3333333333333333,
              "#9c179e"
             ],
             [
              0.4444444444444444,
              "#bd3786"
             ],
             [
              0.5555555555555556,
              "#d8576b"
             ],
             [
              0.6666666666666666,
              "#ed7953"
             ],
             [
              0.7777777777777778,
              "#fb9f3a"
             ],
             [
              0.8888888888888888,
              "#fdca26"
             ],
             [
              1,
              "#f0f921"
             ]
            ],
            "type": "heatmapgl"
           }
          ],
          "histogram": [
           {
            "marker": {
             "pattern": {
              "fillmode": "overlay",
              "size": 10,
              "solidity": 0.2
             }
            },
            "type": "histogram"
           }
          ],
          "histogram2d": [
           {
            "colorbar": {
             "outlinewidth": 0,
             "ticks": ""
            },
            "colorscale": [
             [
              0,
              "#0d0887"
             ],
             [
              0.1111111111111111,
              "#46039f"
             ],
             [
              0.2222222222222222,
              "#7201a8"
             ],
             [
              0.3333333333333333,
              "#9c179e"
             ],
             [
              0.4444444444444444,
              "#bd3786"
             ],
             [
              0.5555555555555556,
              "#d8576b"
             ],
             [
              0.6666666666666666,
              "#ed7953"
             ],
             [
              0.7777777777777778,
              "#fb9f3a"
             ],
             [
              0.8888888888888888,
              "#fdca26"
             ],
             [
              1,
              "#f0f921"
             ]
            ],
            "type": "histogram2d"
           }
          ],
          "histogram2dcontour": [
           {
            "colorbar": {
             "outlinewidth": 0,
             "ticks": ""
            },
            "colorscale": [
             [
              0,
              "#0d0887"
             ],
             [
              0.1111111111111111,
              "#46039f"
             ],
             [
              0.2222222222222222,
              "#7201a8"
             ],
             [
              0.3333333333333333,
              "#9c179e"
             ],
             [
              0.4444444444444444,
              "#bd3786"
             ],
             [
              0.5555555555555556,
              "#d8576b"
             ],
             [
              0.6666666666666666,
              "#ed7953"
             ],
             [
              0.7777777777777778,
              "#fb9f3a"
             ],
             [
              0.8888888888888888,
              "#fdca26"
             ],
             [
              1,
              "#f0f921"
             ]
            ],
            "type": "histogram2dcontour"
           }
          ],
          "mesh3d": [
           {
            "colorbar": {
             "outlinewidth": 0,
             "ticks": ""
            },
            "type": "mesh3d"
           }
          ],
          "parcoords": [
           {
            "line": {
             "colorbar": {
              "outlinewidth": 0,
              "ticks": ""
             }
            },
            "type": "parcoords"
           }
          ],
          "pie": [
           {
            "automargin": true,
            "type": "pie"
           }
          ],
          "scatter": [
           {
            "fillpattern": {
             "fillmode": "overlay",
             "size": 10,
             "solidity": 0.2
            },
            "type": "scatter"
           }
          ],
          "scatter3d": [
           {
            "line": {
             "colorbar": {
              "outlinewidth": 0,
              "ticks": ""
             }
            },
            "marker": {
             "colorbar": {
              "outlinewidth": 0,
              "ticks": ""
             }
            },
            "type": "scatter3d"
           }
          ],
          "scattercarpet": [
           {
            "marker": {
             "colorbar": {
              "outlinewidth": 0,
              "ticks": ""
             }
            },
            "type": "scattercarpet"
           }
          ],
          "scattergeo": [
           {
            "marker": {
             "colorbar": {
              "outlinewidth": 0,
              "ticks": ""
             }
            },
            "type": "scattergeo"
           }
          ],
          "scattergl": [
           {
            "marker": {
             "colorbar": {
              "outlinewidth": 0,
              "ticks": ""
             }
            },
            "type": "scattergl"
           }
          ],
          "scattermapbox": [
           {
            "marker": {
             "colorbar": {
              "outlinewidth": 0,
              "ticks": ""
             }
            },
            "type": "scattermapbox"
           }
          ],
          "scatterpolar": [
           {
            "marker": {
             "colorbar": {
              "outlinewidth": 0,
              "ticks": ""
             }
            },
            "type": "scatterpolar"
           }
          ],
          "scatterpolargl": [
           {
            "marker": {
             "colorbar": {
              "outlinewidth": 0,
              "ticks": ""
             }
            },
            "type": "scatterpolargl"
           }
          ],
          "scatterternary": [
           {
            "marker": {
             "colorbar": {
              "outlinewidth": 0,
              "ticks": ""
             }
            },
            "type": "scatterternary"
           }
          ],
          "surface": [
           {
            "colorbar": {
             "outlinewidth": 0,
             "ticks": ""
            },
            "colorscale": [
             [
              0,
              "#0d0887"
             ],
             [
              0.1111111111111111,
              "#46039f"
             ],
             [
              0.2222222222222222,
              "#7201a8"
             ],
             [
              0.3333333333333333,
              "#9c179e"
             ],
             [
              0.4444444444444444,
              "#bd3786"
             ],
             [
              0.5555555555555556,
              "#d8576b"
             ],
             [
              0.6666666666666666,
              "#ed7953"
             ],
             [
              0.7777777777777778,
              "#fb9f3a"
             ],
             [
              0.8888888888888888,
              "#fdca26"
             ],
             [
              1,
              "#f0f921"
             ]
            ],
            "type": "surface"
           }
          ],
          "table": [
           {
            "cells": {
             "fill": {
              "color": "#EBF0F8"
             },
             "line": {
              "color": "white"
             }
            },
            "header": {
             "fill": {
              "color": "#C8D4E3"
             },
             "line": {
              "color": "white"
             }
            },
            "type": "table"
           }
          ]
         },
         "layout": {
          "annotationdefaults": {
           "arrowcolor": "#2a3f5f",
           "arrowhead": 0,
           "arrowwidth": 1
          },
          "autotypenumbers": "strict",
          "coloraxis": {
           "colorbar": {
            "outlinewidth": 0,
            "ticks": ""
           }
          },
          "colorscale": {
           "diverging": [
            [
             0,
             "#8e0152"
            ],
            [
             0.1,
             "#c51b7d"
            ],
            [
             0.2,
             "#de77ae"
            ],
            [
             0.3,
             "#f1b6da"
            ],
            [
             0.4,
             "#fde0ef"
            ],
            [
             0.5,
             "#f7f7f7"
            ],
            [
             0.6,
             "#e6f5d0"
            ],
            [
             0.7,
             "#b8e186"
            ],
            [
             0.8,
             "#7fbc41"
            ],
            [
             0.9,
             "#4d9221"
            ],
            [
             1,
             "#276419"
            ]
           ],
           "sequential": [
            [
             0,
             "#0d0887"
            ],
            [
             0.1111111111111111,
             "#46039f"
            ],
            [
             0.2222222222222222,
             "#7201a8"
            ],
            [
             0.3333333333333333,
             "#9c179e"
            ],
            [
             0.4444444444444444,
             "#bd3786"
            ],
            [
             0.5555555555555556,
             "#d8576b"
            ],
            [
             0.6666666666666666,
             "#ed7953"
            ],
            [
             0.7777777777777778,
             "#fb9f3a"
            ],
            [
             0.8888888888888888,
             "#fdca26"
            ],
            [
             1,
             "#f0f921"
            ]
           ],
           "sequentialminus": [
            [
             0,
             "#0d0887"
            ],
            [
             0.1111111111111111,
             "#46039f"
            ],
            [
             0.2222222222222222,
             "#7201a8"
            ],
            [
             0.3333333333333333,
             "#9c179e"
            ],
            [
             0.4444444444444444,
             "#bd3786"
            ],
            [
             0.5555555555555556,
             "#d8576b"
            ],
            [
             0.6666666666666666,
             "#ed7953"
            ],
            [
             0.7777777777777778,
             "#fb9f3a"
            ],
            [
             0.8888888888888888,
             "#fdca26"
            ],
            [
             1,
             "#f0f921"
            ]
           ]
          },
          "colorway": [
           "#636efa",
           "#EF553B",
           "#00cc96",
           "#ab63fa",
           "#FFA15A",
           "#19d3f3",
           "#FF6692",
           "#B6E880",
           "#FF97FF",
           "#FECB52"
          ],
          "font": {
           "color": "#2a3f5f"
          },
          "geo": {
           "bgcolor": "white",
           "lakecolor": "white",
           "landcolor": "#E5ECF6",
           "showlakes": true,
           "showland": true,
           "subunitcolor": "white"
          },
          "hoverlabel": {
           "align": "left"
          },
          "hovermode": "closest",
          "mapbox": {
           "style": "light"
          },
          "paper_bgcolor": "white",
          "plot_bgcolor": "#E5ECF6",
          "polar": {
           "angularaxis": {
            "gridcolor": "white",
            "linecolor": "white",
            "ticks": ""
           },
           "bgcolor": "#E5ECF6",
           "radialaxis": {
            "gridcolor": "white",
            "linecolor": "white",
            "ticks": ""
           }
          },
          "scene": {
           "xaxis": {
            "backgroundcolor": "#E5ECF6",
            "gridcolor": "white",
            "gridwidth": 2,
            "linecolor": "white",
            "showbackground": true,
            "ticks": "",
            "zerolinecolor": "white"
           },
           "yaxis": {
            "backgroundcolor": "#E5ECF6",
            "gridcolor": "white",
            "gridwidth": 2,
            "linecolor": "white",
            "showbackground": true,
            "ticks": "",
            "zerolinecolor": "white"
           },
           "zaxis": {
            "backgroundcolor": "#E5ECF6",
            "gridcolor": "white",
            "gridwidth": 2,
            "linecolor": "white",
            "showbackground": true,
            "ticks": "",
            "zerolinecolor": "white"
           }
          },
          "shapedefaults": {
           "line": {
            "color": "#2a3f5f"
           }
          },
          "ternary": {
           "aaxis": {
            "gridcolor": "white",
            "linecolor": "white",
            "ticks": ""
           },
           "baxis": {
            "gridcolor": "white",
            "linecolor": "white",
            "ticks": ""
           },
           "bgcolor": "#E5ECF6",
           "caxis": {
            "gridcolor": "white",
            "linecolor": "white",
            "ticks": ""
           }
          },
          "title": {
           "x": 0.05
          },
          "xaxis": {
           "automargin": true,
           "gridcolor": "white",
           "linecolor": "white",
           "ticks": "",
           "title": {
            "standoff": 15
           },
           "zerolinecolor": "white",
           "zerolinewidth": 2
          },
          "yaxis": {
           "automargin": true,
           "gridcolor": "white",
           "linecolor": "white",
           "ticks": "",
           "title": {
            "standoff": 15
           },
           "zerolinecolor": "white",
           "zerolinewidth": 2
          }
         }
        },
        "title": {
         "text": "Distribuation of Districts in Madrid"
        },
        "xaxis": {
         "anchor": "y",
         "domain": [
          0,
          1
         ],
         "title": {
          "text": "district"
         }
        },
        "yaxis": {
         "anchor": "x",
         "domain": [
          0,
          1
         ],
         "title": {
          "text": "value"
         }
        }
       }
      }
     },
     "metadata": {},
     "output_type": "display_data"
    }
   ],
   "source": [
    "# Create a bar plot to visualize the distribution of districts in Madrid\n",
    "px.bar(df.district.value_counts(), title= 'Distribuation of Districts in Madrid')"
   ]
  },
  {
   "cell_type": "markdown",
   "metadata": {},
   "source": [
    "### Correlation Coefficient"
   ]
  },
  {
   "cell_type": "code",
   "execution_count": 40,
   "metadata": {},
   "outputs": [
    {
     "data": {
      "image/png": "[encoded data removed]",
      "text/plain": [
       "<Figure size 750x750 with 12 Axes>"
      ]
     },
     "metadata": {},
     "output_type": "display_data"
    }
   ],
   "source": [
    "# Create a pair plot with regression lines to visualize the relationships between 'sq_mt_built', 'n_rooms', and 'n_bathrooms'\n",
    "corr = df[['sq_mt_built','n_rooms','n_bathrooms']]\n",
    "sns.pairplot(corr, kind='reg')\n",
    "plt.tight_layout()"
   ]
  },
  {
   "cell_type": "code",
   "execution_count": 41,
   "metadata": {},
   "outputs": [
    {
     "data": {
      "text/plain": [
       "Text(0, 0.5, 'Buy Price')"
      ]
     },
     "execution_count": 41,
     "metadata": {},
     "output_type": "execute_result"
    },
    {
     "data": {
      "image/png": "[encoded data removed]",
      "text/plain": [
       "<Figure size 640x480 with 1 Axes>"
      ]
     },
     "metadata": {},
     "output_type": "display_data"
    }
   ],
   "source": [
    "# Create a regression plot to visualize the correlation between 'sq_mt_built' (area in m²) and 'buy_price'\n",
    "sns.regplot(data=df, x= 'sq_mt_built', y= 'buy_price')\n",
    "plt.title('Corelation between Area (m2) and Buy Price')\n",
    "plt.xlabel('Area (m2)')\n",
    "plt.ylabel('Buy Price')"
   ]
  },
  {
   "cell_type": "code",
   "execution_count": 42,
   "metadata": {},
   "outputs": [
    {
     "data": {
      "text/plain": [
       "Text(0.5, 1.0, 'Correlation Coefficient between numerical columns')"
      ]
     },
     "execution_count": 42,
     "metadata": {},
     "output_type": "execute_result"
    },
    {
     "data": {
      "image/png": "[encoded data removed]",
      "text/plain": [
       "<Figure size 640x480 with 2 Axes>"
      ]
     },
     "metadata": {},
     "output_type": "display_data"
    }
   ],
   "source": [
    "# Create a heatmap to visualize the correlation coefficients between numerical columns in the dataset\n",
    "sns.heatmap(corr.corr(), annot=True)\n",
    "plt.title('Correlation Coefficient between numerical columns')"
   ]
  },
  {
   "cell_type": "code",
   "execution_count": 43,
   "metadata": {},
   "outputs": [
    {
     "data": {
      "text/plain": [
       "<Axes: >"
      ]
     },
     "execution_count": 43,
     "metadata": {},
     "output_type": "execute_result"
    },
    {
     "data": {
      "image/png": "[encoded data removed]",
      "text/plain": [
       "<Figure size 640x480 with 2 Axes>"
      ]
     },
     "metadata": {},
     "output_type": "display_data"
    }
   ],
   "source": [
    "# Create a heatmap to visualize the correlation coefficients between 'buy_price', 'sq_mt_built', 'n_rooms', and 'n_bathrooms'\n",
    "corr = df[['buy_price', 'sq_mt_built', 'n_rooms', 'n_bathrooms']]\n",
    "sns.heatmap(corr.corr(), annot=True)"
   ]
  },
  {
   "cell_type": "code",
   "execution_count": 44,
   "metadata": {},
   "outputs": [
    {
     "data": {
      "text/html": [
       "<div>\n",
       "<style scoped>\n",
       "    .dataframe tbody tr th:only-of-type {\n",
       "        vertical-align: middle;\n",
       "    }\n",
       "\n",
       "    .dataframe tbody tr th {\n",
       "        vertical-align: top;\n",
       "    }\n",
       "\n",
       "    .dataframe thead th {\n",
       "        text-align: right;\n",
       "    }\n",
       "</style>\n",
       "<table border=\"1\" class=\"dataframe\">\n",
       "  <thead>\n",
       "    <tr style=\"text-align: right;\">\n",
       "      <th></th>\n",
       "      <th>id</th>\n",
       "      <th>district</th>\n",
       "      <th>sq_mt_built</th>\n",
       "      <th>n_rooms</th>\n",
       "      <th>n_bathrooms</th>\n",
       "      <th>buy_price</th>\n",
       "      <th>buy_price_by_area</th>\n",
       "    </tr>\n",
       "  </thead>\n",
       "  <tbody>\n",
       "    <tr>\n",
       "      <th>0</th>\n",
       "      <td>21740</td>\n",
       "      <td>San AndrÃ©s</td>\n",
       "      <td>94.00</td>\n",
       "      <td>2</td>\n",
       "      <td>2</td>\n",
       "      <td>144247</td>\n",
       "      <td>1535</td>\n",
       "    </tr>\n",
       "    <tr>\n",
       "      <th>1</th>\n",
       "      <td>21738</td>\n",
       "      <td>Los Rosales</td>\n",
       "      <td>108.00</td>\n",
       "      <td>2</td>\n",
       "      <td>2</td>\n",
       "      <td>260000</td>\n",
       "      <td>2407</td>\n",
       "    </tr>\n",
       "    <tr>\n",
       "      <th>2</th>\n",
       "      <td>21737</td>\n",
       "      <td>San AndrÃ©s</td>\n",
       "      <td>126.00</td>\n",
       "      <td>4</td>\n",
       "      <td>2</td>\n",
       "      <td>195000</td>\n",
       "      <td>1548</td>\n",
       "    </tr>\n",
       "    <tr>\n",
       "      <th>3</th>\n",
       "      <td>21736</td>\n",
       "      <td>San AndrÃ©s</td>\n",
       "      <td>120.00</td>\n",
       "      <td>5</td>\n",
       "      <td>2</td>\n",
       "      <td>190000</td>\n",
       "      <td>1583</td>\n",
       "    </tr>\n",
       "    <tr>\n",
       "      <th>4</th>\n",
       "      <td>21735</td>\n",
       "      <td>Villaverde</td>\n",
       "      <td>125.00</td>\n",
       "      <td>3</td>\n",
       "      <td>2</td>\n",
       "      <td>198500</td>\n",
       "      <td>1588</td>\n",
       "    </tr>\n",
       "  </tbody>\n",
       "</table>\n",
       "</div>"
      ],
      "text/plain": [
       "      id     district  sq_mt_built  n_rooms  n_bathrooms  buy_price  \\\n",
       "0  21740  San AndrÃ©s        94.00        2            2     144247   \n",
       "1  21738  Los Rosales       108.00        2            2     260000   \n",
       "2  21737  San AndrÃ©s       126.00        4            2     195000   \n",
       "3  21736  San AndrÃ©s       120.00        5            2     190000   \n",
       "4  21735   Villaverde       125.00        3            2     198500   \n",
       "\n",
       "   buy_price_by_area  \n",
       "0               1535  \n",
       "1               2407  \n",
       "2               1548  \n",
       "3               1583  \n",
       "4               1588  "
      ]
     },
     "execution_count": 44,
     "metadata": {},
     "output_type": "execute_result"
    }
   ],
   "source": [
    "df.head()"
   ]
  },
  {
   "cell_type": "markdown",
   "metadata": {},
   "source": [
    "### Location or Size: What Influences House Price in Madrid"
   ]
  },
  {
   "cell_type": "markdown",
   "metadata": {},
   "source": [
    "Do housing prices vary by district? if so, which are the most expensive states for purchasing a home?"
   ]
  },
  {
   "cell_type": "code",
   "execution_count": 45,
   "metadata": {},
   "outputs": [
    {
     "data": {
      "image/png": "[encoded data removed]",
      "text/plain": [
       "<Figure size 640x480 with 1 Axes>"
      ]
     },
     "metadata": {},
     "output_type": "display_data"
    }
   ],
   "source": [
    "# Calculate the mean 'buy_price' for each district\n",
    "mean_price = df.groupby('district')['buy_price'].mean().round(2).sort_values(ascending= False)\n",
    "# plot the top 10 districts with the highest mean prices\n",
    "mean_price.head(10).plot(kind= 'bar', xlabel= 'District', ylabel= 'Price', title= 'Mean Price by district');"
   ]
  },
  {
   "cell_type": "code",
   "execution_count": 46,
   "metadata": {},
   "outputs": [
    {
     "data": {
      "text/plain": [
       "<Axes: title={'center': 'Mean price by district'}, xlabel='District', ylabel='Price'>"
      ]
     },
     "execution_count": 46,
     "metadata": {},
     "output_type": "execute_result"
    },
    {
     "data": {
      "image/png": "[encoded data removed]",
      "text/plain": [
       "<Figure size 640x480 with 1 Axes>"
      ]
     },
     "metadata": {},
     "output_type": "display_data"
    }
   ],
   "source": [
    "# we will use buy_price_by_area column because after search we found that its values are more acurate\n",
    "mean_price_by_area = df.groupby('district')['buy_price_by_area'].mean().round(2).sort_values(ascending= False)\n",
    "mean_price_by_area.head(10).plot(kind= 'bar', xlabel= 'District', ylabel= 'Price', title= 'Mean price by district')"
   ]
  },
  {
   "cell_type": "code",
   "execution_count": 47,
   "metadata": {},
   "outputs": [],
   "source": [
    "# Filter the DataFrame to get rows where the 'district' is 'Recoletos'\n",
    "reco = df.query('district == \"Recoletos\"')"
   ]
  },
  {
   "cell_type": "code",
   "execution_count": 48,
   "metadata": {},
   "outputs": [
    {
     "data": {
      "text/html": [
       "<div>\n",
       "<style scoped>\n",
       "    .dataframe tbody tr th:only-of-type {\n",
       "        vertical-align: middle;\n",
       "    }\n",
       "\n",
       "    .dataframe tbody tr th {\n",
       "        vertical-align: top;\n",
       "    }\n",
       "\n",
       "    .dataframe thead th {\n",
       "        text-align: right;\n",
       "    }\n",
       "</style>\n",
       "<table border=\"1\" class=\"dataframe\">\n",
       "  <thead>\n",
       "    <tr style=\"text-align: right;\">\n",
       "      <th></th>\n",
       "      <th>id</th>\n",
       "      <th>district</th>\n",
       "      <th>sq_mt_built</th>\n",
       "      <th>n_rooms</th>\n",
       "      <th>n_bathrooms</th>\n",
       "      <th>buy_price</th>\n",
       "      <th>buy_price_by_area</th>\n",
       "    </tr>\n",
       "  </thead>\n",
       "  <tbody>\n",
       "    <tr>\n",
       "      <th>15968</th>\n",
       "      <td>1685</td>\n",
       "      <td>Recoletos</td>\n",
       "      <td>76.00</td>\n",
       "      <td>1</td>\n",
       "      <td>1</td>\n",
       "      <td>490000</td>\n",
       "      <td>6447</td>\n",
       "    </tr>\n",
       "    <tr>\n",
       "      <th>15285</th>\n",
       "      <td>2622</td>\n",
       "      <td>Recoletos</td>\n",
       "      <td>127.00</td>\n",
       "      <td>2</td>\n",
       "      <td>2</td>\n",
       "      <td>990000</td>\n",
       "      <td>7795</td>\n",
       "    </tr>\n",
       "    <tr>\n",
       "      <th>15368</th>\n",
       "      <td>2513</td>\n",
       "      <td>Recoletos</td>\n",
       "      <td>170.00</td>\n",
       "      <td>3</td>\n",
       "      <td>3</td>\n",
       "      <td>1165000</td>\n",
       "      <td>6853</td>\n",
       "    </tr>\n",
       "    <tr>\n",
       "      <th>15445</th>\n",
       "      <td>2416</td>\n",
       "      <td>Recoletos</td>\n",
       "      <td>145.00</td>\n",
       "      <td>2</td>\n",
       "      <td>2</td>\n",
       "      <td>1400000</td>\n",
       "      <td>9655</td>\n",
       "    </tr>\n",
       "    <tr>\n",
       "      <th>15363</th>\n",
       "      <td>2518</td>\n",
       "      <td>Recoletos</td>\n",
       "      <td>84.00</td>\n",
       "      <td>2</td>\n",
       "      <td>2</td>\n",
       "      <td>730000</td>\n",
       "      <td>8690</td>\n",
       "    </tr>\n",
       "    <tr>\n",
       "      <th>16008</th>\n",
       "      <td>1619</td>\n",
       "      <td>Recoletos</td>\n",
       "      <td>142.00</td>\n",
       "      <td>3</td>\n",
       "      <td>3</td>\n",
       "      <td>1475000</td>\n",
       "      <td>10387</td>\n",
       "    </tr>\n",
       "    <tr>\n",
       "      <th>15791</th>\n",
       "      <td>1919</td>\n",
       "      <td>Recoletos</td>\n",
       "      <td>134.00</td>\n",
       "      <td>1</td>\n",
       "      <td>1</td>\n",
       "      <td>750000</td>\n",
       "      <td>5597</td>\n",
       "    </tr>\n",
       "    <tr>\n",
       "      <th>15278</th>\n",
       "      <td>2632</td>\n",
       "      <td>Recoletos</td>\n",
       "      <td>187.00</td>\n",
       "      <td>3</td>\n",
       "      <td>3</td>\n",
       "      <td>1450000</td>\n",
       "      <td>7754</td>\n",
       "    </tr>\n",
       "    <tr>\n",
       "      <th>15549</th>\n",
       "      <td>2264</td>\n",
       "      <td>Recoletos</td>\n",
       "      <td>72.00</td>\n",
       "      <td>2</td>\n",
       "      <td>1</td>\n",
       "      <td>820000</td>\n",
       "      <td>11389</td>\n",
       "    </tr>\n",
       "    <tr>\n",
       "      <th>15286</th>\n",
       "      <td>2620</td>\n",
       "      <td>Recoletos</td>\n",
       "      <td>92.00</td>\n",
       "      <td>2</td>\n",
       "      <td>1</td>\n",
       "      <td>378000</td>\n",
       "      <td>4109</td>\n",
       "    </tr>\n",
       "  </tbody>\n",
       "</table>\n",
       "</div>"
      ],
      "text/plain": [
       "         id   district  sq_mt_built  n_rooms  n_bathrooms  buy_price  \\\n",
       "15968  1685  Recoletos        76.00        1            1     490000   \n",
       "15285  2622  Recoletos       127.00        2            2     990000   \n",
       "15368  2513  Recoletos       170.00        3            3    1165000   \n",
       "15445  2416  Recoletos       145.00        2            2    1400000   \n",
       "15363  2518  Recoletos        84.00        2            2     730000   \n",
       "16008  1619  Recoletos       142.00        3            3    1475000   \n",
       "15791  1919  Recoletos       134.00        1            1     750000   \n",
       "15278  2632  Recoletos       187.00        3            3    1450000   \n",
       "15549  2264  Recoletos        72.00        2            1     820000   \n",
       "15286  2620  Recoletos        92.00        2            1     378000   \n",
       "\n",
       "       buy_price_by_area  \n",
       "15968               6447  \n",
       "15285               7795  \n",
       "15368               6853  \n",
       "15445               9655  \n",
       "15363               8690  \n",
       "16008              10387  \n",
       "15791               5597  \n",
       "15278               7754  \n",
       "15549              11389  \n",
       "15286               4109  "
      ]
     },
     "execution_count": 48,
     "metadata": {},
     "output_type": "execute_result"
    }
   ],
   "source": [
    "reco.sample(10)"
   ]
  },
  {
   "cell_type": "code",
   "execution_count": 49,
   "metadata": {},
   "outputs": [
    {
     "name": "stderr",
     "output_type": "stream",
     "text": [
      "C:\\Users\\Azhaa\\AppData\\Local\\Temp\\ipykernel_812\\1021117199.py:4: SettingWithCopyWarning:\n",
      "\n",
      "\n",
      "A value is trying to be set on a copy of a slice from a DataFrame.\n",
      "Try using .loc[row_indexer,col_indexer] = value instead\n",
      "\n",
      "See the caveats in the documentation: https://pandas.pydata.org/pandas-docs/stable/user_guide/indexing.html#returning-a-view-versus-a-copy\n",
      "\n"
     ]
    },
    {
     "data": {
      "text/html": [
       "<table class=\"simpletable\">\n",
       "<caption>OLS Regression Results</caption>\n",
       "<tr>\n",
       "  <th>Dep. Variable:</th>        <td>buy_price</td>    <th>  R-squared:         </th> <td>   0.655</td>\n",
       "</tr>\n",
       "<tr>\n",
       "  <th>Model:</th>                   <td>OLS</td>       <th>  Adj. R-squared:    </th> <td>   0.646</td>\n",
       "</tr>\n",
       "<tr>\n",
       "  <th>Method:</th>             <td>Least Squares</td>  <th>  F-statistic:       </th> <td>   72.05</td>\n",
       "</tr>\n",
       "<tr>\n",
       "  <th>Date:</th>             <td>Tue, 14 Jan 2025</td> <th>  Prob (F-statistic):</th> <td>2.64e-10</td>\n",
       "</tr>\n",
       "<tr>\n",
       "  <th>Time:</th>                 <td>04:46:22</td>     <th>  Log-Likelihood:    </th> <td> -545.25</td>\n",
       "</tr>\n",
       "<tr>\n",
       "  <th>No. Observations:</th>      <td>    40</td>      <th>  AIC:               </th> <td>   1094.</td>\n",
       "</tr>\n",
       "<tr>\n",
       "  <th>Df Residuals:</th>          <td>    38</td>      <th>  BIC:               </th> <td>   1098.</td>\n",
       "</tr>\n",
       "<tr>\n",
       "  <th>Df Model:</th>              <td>     1</td>      <th>                     </th>     <td> </td>   \n",
       "</tr>\n",
       "<tr>\n",
       "  <th>Covariance Type:</th>      <td>nonrobust</td>    <th>                     </th>     <td> </td>   \n",
       "</tr>\n",
       "</table>\n",
       "<table class=\"simpletable\">\n",
       "<tr>\n",
       "       <td></td>          <th>coef</th>     <th>std err</th>      <th>t</th>      <th>P>|t|</th>  <th>[0.025</th>    <th>0.975]</th>  \n",
       "</tr>\n",
       "<tr>\n",
       "  <th>intercept</th>   <td> 1.525e+05</td> <td> 9.89e+04</td> <td>    1.543</td> <td> 0.131</td> <td>-4.76e+04</td> <td> 3.53e+05</td>\n",
       "</tr>\n",
       "<tr>\n",
       "  <th>sq_mt_built</th> <td> 6843.1589</td> <td>  806.219</td> <td>    8.488</td> <td> 0.000</td> <td> 5211.054</td> <td> 8475.263</td>\n",
       "</tr>\n",
       "</table>\n",
       "<table class=\"simpletable\">\n",
       "<tr>\n",
       "  <th>Omnibus:</th>       <td>10.228</td> <th>  Durbin-Watson:     </th> <td>   1.602</td>\n",
       "</tr>\n",
       "<tr>\n",
       "  <th>Prob(Omnibus):</th> <td> 0.006</td> <th>  Jarque-Bera (JB):  </th> <td>  10.615</td>\n",
       "</tr>\n",
       "<tr>\n",
       "  <th>Skew:</th>          <td>-0.863</td> <th>  Prob(JB):          </th> <td> 0.00495</td>\n",
       "</tr>\n",
       "<tr>\n",
       "  <th>Kurtosis:</th>      <td> 4.840</td> <th>  Cond. No.          </th> <td>    371.</td>\n",
       "</tr>\n",
       "</table><br/><br/>Notes:<br/>[1] Standard Errors assume that the covariance matrix of the errors is correctly specified."
      ],
      "text/latex": [
       "\\begin{center}\n",
       "\\begin{tabular}{lclc}\n",
       "\\toprule\n",
       "\\textbf{Dep. Variable:}    &    buy\\_price    & \\textbf{  R-squared:         } &     0.655   \\\\\n",
       "\\textbf{Model:}            &       OLS        & \\textbf{  Adj. R-squared:    } &     0.646   \\\\\n",
       "\\textbf{Method:}           &  Least Squares   & \\textbf{  F-statistic:       } &     72.05   \\\\\n",
       "\\textbf{Date:}             & Tue, 14 Jan 2025 & \\textbf{  Prob (F-statistic):} &  2.64e-10   \\\\\n",
       "\\textbf{Time:}             &     04:46:22     & \\textbf{  Log-Likelihood:    } &   -545.25   \\\\\n",
       "\\textbf{No. Observations:} &          40      & \\textbf{  AIC:               } &     1094.   \\\\\n",
       "\\textbf{Df Residuals:}     &          38      & \\textbf{  BIC:               } &     1098.   \\\\\n",
       "\\textbf{Df Model:}         &           1      & \\textbf{                     } &             \\\\\n",
       "\\textbf{Covariance Type:}  &    nonrobust     & \\textbf{                     } &             \\\\\n",
       "\\bottomrule\n",
       "\\end{tabular}\n",
       "\\begin{tabular}{lcccccc}\n",
       "                       & \\textbf{coef} & \\textbf{std err} & \\textbf{t} & \\textbf{P$> |$t$|$} & \\textbf{[0.025} & \\textbf{0.975]}  \\\\\n",
       "\\midrule\n",
       "\\textbf{intercept}     &    1.525e+05  &     9.89e+04     &     1.543  &         0.131        &    -4.76e+04    &     3.53e+05     \\\\\n",
       "\\textbf{sq\\_mt\\_built} &    6843.1589  &      806.219     &     8.488  &         0.000        &     5211.054    &     8475.263     \\\\\n",
       "\\bottomrule\n",
       "\\end{tabular}\n",
       "\\begin{tabular}{lclc}\n",
       "\\textbf{Omnibus:}       & 10.228 & \\textbf{  Durbin-Watson:     } &    1.602  \\\\\n",
       "\\textbf{Prob(Omnibus):} &  0.006 & \\textbf{  Jarque-Bera (JB):  } &   10.615  \\\\\n",
       "\\textbf{Skew:}          & -0.863 & \\textbf{  Prob(JB):          } &  0.00495  \\\\\n",
       "\\textbf{Kurtosis:}      &  4.840 & \\textbf{  Cond. No.          } &     371.  \\\\\n",
       "\\bottomrule\n",
       "\\end{tabular}\n",
       "%\\caption{OLS Regression Results}\n",
       "\\end{center}\n",
       "\n",
       "Notes: \\newline\n",
       " [1] Standard Errors assume that the covariance matrix of the errors is correctly specified."
      ],
      "text/plain": [
       "<class 'statsmodels.iolib.summary.Summary'>\n",
       "\"\"\"\n",
       "                            OLS Regression Results                            \n",
       "==============================================================================\n",
       "Dep. Variable:              buy_price   R-squared:                       0.655\n",
       "Model:                            OLS   Adj. R-squared:                  0.646\n",
       "Method:                 Least Squares   F-statistic:                     72.05\n",
       "Date:                Tue, 14 Jan 2025   Prob (F-statistic):           2.64e-10\n",
       "Time:                        04:46:22   Log-Likelihood:                -545.25\n",
       "No. Observations:                  40   AIC:                             1094.\n",
       "Df Residuals:                      38   BIC:                             1098.\n",
       "Df Model:                           1                                         \n",
       "Covariance Type:            nonrobust                                         \n",
       "===============================================================================\n",
       "                  coef    std err          t      P>|t|      [0.025      0.975]\n",
       "-------------------------------------------------------------------------------\n",
       "intercept    1.525e+05   9.89e+04      1.543      0.131   -4.76e+04    3.53e+05\n",
       "sq_mt_built  6843.1589    806.219      8.488      0.000    5211.054    8475.263\n",
       "==============================================================================\n",
       "Omnibus:                       10.228   Durbin-Watson:                   1.602\n",
       "Prob(Omnibus):                  0.006   Jarque-Bera (JB):               10.615\n",
       "Skew:                          -0.863   Prob(JB):                      0.00495\n",
       "Kurtosis:                       4.840   Cond. No.                         371.\n",
       "==============================================================================\n",
       "\n",
       "Notes:\n",
       "[1] Standard Errors assume that the covariance matrix of the errors is correctly specified.\n",
       "\"\"\""
      ]
     },
     "execution_count": 49,
     "metadata": {},
     "output_type": "execute_result"
    }
   ],
   "source": [
    "# Perform a linear regression to predict 'buy_price' based on 'sq_mt_built' using statsmodels\n",
    "import statsmodels.api as sm\n",
    "# Add new column manually\n",
    "reco['intercept'] = 1\n",
    "Linear_model = sm.OLS(reco['buy_price'], reco[['intercept', 'sq_mt_built']])\n",
    "result = Linear_model.fit()\n",
    "result.summary()"
   ]
  },
  {
   "cell_type": "code",
   "execution_count": 50,
   "metadata": {},
   "outputs": [
    {
     "name": "stdout",
     "output_type": "stream",
     "text": [
      "predicted price of flat in recoletos with area of 300 m2 = 2205400 Euro\n"
     ]
    }
   ],
   "source": [
    "# Predict the price of an apartment in 'Recoletos' with an area of 300 m² using the linear regression equation\n",
    "x = 300 # Area in m²\n",
    "# b0 is coef of intercept , b1 is slope (coef sq_mt_built), x is aq_mt_built\n",
    "# Y^ = b0 + b1 * x\n",
    "price = 152500 + 6843 * x\n",
    "print('predicted price of flat in recoletos with area of {} m2 = {} Euro'.format(x, price))"
   ]
  },
  {
   "cell_type": "markdown",
   "metadata": {},
   "source": [
    "### MultiLinear Regression Model"
   ]
  },
  {
   "cell_type": "markdown",
   "metadata": {},
   "source": [
    "* With Quantitative data"
   ]
  },
  {
   "cell_type": "code",
   "execution_count": 51,
   "metadata": {},
   "outputs": [
    {
     "data": {
      "text/html": [
       "<div>\n",
       "<style scoped>\n",
       "    .dataframe tbody tr th:only-of-type {\n",
       "        vertical-align: middle;\n",
       "    }\n",
       "\n",
       "    .dataframe tbody tr th {\n",
       "        vertical-align: top;\n",
       "    }\n",
       "\n",
       "    .dataframe thead th {\n",
       "        text-align: right;\n",
       "    }\n",
       "</style>\n",
       "<table border=\"1\" class=\"dataframe\">\n",
       "  <thead>\n",
       "    <tr style=\"text-align: right;\">\n",
       "      <th></th>\n",
       "      <th>id</th>\n",
       "      <th>district</th>\n",
       "      <th>sq_mt_built</th>\n",
       "      <th>n_rooms</th>\n",
       "      <th>n_bathrooms</th>\n",
       "      <th>buy_price</th>\n",
       "      <th>buy_price_by_area</th>\n",
       "      <th>intercept</th>\n",
       "    </tr>\n",
       "  </thead>\n",
       "  <tbody>\n",
       "    <tr>\n",
       "      <th>15272</th>\n",
       "      <td>2640</td>\n",
       "      <td>Recoletos</td>\n",
       "      <td>114.00</td>\n",
       "      <td>4</td>\n",
       "      <td>1</td>\n",
       "      <td>750000</td>\n",
       "      <td>6579</td>\n",
       "      <td>1</td>\n",
       "    </tr>\n",
       "    <tr>\n",
       "      <th>15278</th>\n",
       "      <td>2632</td>\n",
       "      <td>Recoletos</td>\n",
       "      <td>187.00</td>\n",
       "      <td>3</td>\n",
       "      <td>3</td>\n",
       "      <td>1450000</td>\n",
       "      <td>7754</td>\n",
       "      <td>1</td>\n",
       "    </tr>\n",
       "    <tr>\n",
       "      <th>15285</th>\n",
       "      <td>2622</td>\n",
       "      <td>Recoletos</td>\n",
       "      <td>127.00</td>\n",
       "      <td>2</td>\n",
       "      <td>2</td>\n",
       "      <td>990000</td>\n",
       "      <td>7795</td>\n",
       "      <td>1</td>\n",
       "    </tr>\n",
       "    <tr>\n",
       "      <th>15286</th>\n",
       "      <td>2620</td>\n",
       "      <td>Recoletos</td>\n",
       "      <td>92.00</td>\n",
       "      <td>2</td>\n",
       "      <td>1</td>\n",
       "      <td>378000</td>\n",
       "      <td>4109</td>\n",
       "      <td>1</td>\n",
       "    </tr>\n",
       "    <tr>\n",
       "      <th>15292</th>\n",
       "      <td>2602</td>\n",
       "      <td>Recoletos</td>\n",
       "      <td>45.00</td>\n",
       "      <td>1</td>\n",
       "      <td>1</td>\n",
       "      <td>399000</td>\n",
       "      <td>8867</td>\n",
       "      <td>1</td>\n",
       "    </tr>\n",
       "  </tbody>\n",
       "</table>\n",
       "</div>"
      ],
      "text/plain": [
       "         id   district  sq_mt_built  n_rooms  n_bathrooms  buy_price  \\\n",
       "15272  2640  Recoletos       114.00        4            1     750000   \n",
       "15278  2632  Recoletos       187.00        3            3    1450000   \n",
       "15285  2622  Recoletos       127.00        2            2     990000   \n",
       "15286  2620  Recoletos        92.00        2            1     378000   \n",
       "15292  2602  Recoletos        45.00        1            1     399000   \n",
       "\n",
       "       buy_price_by_area  intercept  \n",
       "15272               6579          1  \n",
       "15278               7754          1  \n",
       "15285               7795          1  \n",
       "15286               4109          1  \n",
       "15292               8867          1  "
      ]
     },
     "execution_count": 51,
     "metadata": {},
     "output_type": "execute_result"
    }
   ],
   "source": [
    "reco.head()"
   ]
  },
  {
   "cell_type": "code",
   "execution_count": 52,
   "metadata": {},
   "outputs": [
    {
     "data": {
      "text/plain": [
       "Text(0.5, 1.0, 'Correlation Coefficient between numerical columns')"
      ]
     },
     "execution_count": 52,
     "metadata": {},
     "output_type": "execute_result"
    },
    {
     "data": {
      "image/png": "[encoded data removed]",
      "text/plain": [
       "<Figure size 640x480 with 2 Axes>"
      ]
     },
     "metadata": {},
     "output_type": "display_data"
    }
   ],
   "source": [
    "# Create a heatmap to visualize the correlation coefficients\n",
    "corr = reco[['buy_price', 'sq_mt_built', 'n_rooms', 'n_bathrooms']]\n",
    "sns.heatmap(corr.corr(), annot= True)\n",
    "plt.title('Correlation Coefficient between numerical columns')"
   ]
  },
  {
   "cell_type": "code",
   "execution_count": 53,
   "metadata": {},
   "outputs": [
    {
     "data": {
      "text/html": [
       "<table class=\"simpletable\">\n",
       "<caption>OLS Regression Results</caption>\n",
       "<tr>\n",
       "  <th>Dep. Variable:</th>        <td>buy_price</td>    <th>  R-squared:         </th> <td>   0.776</td>\n",
       "</tr>\n",
       "<tr>\n",
       "  <th>Model:</th>                   <td>OLS</td>       <th>  Adj. R-squared:    </th> <td>   0.764</td>\n",
       "</tr>\n",
       "<tr>\n",
       "  <th>Method:</th>             <td>Least Squares</td>  <th>  F-statistic:       </th> <td>   63.98</td>\n",
       "</tr>\n",
       "<tr>\n",
       "  <th>Date:</th>             <td>Tue, 14 Jan 2025</td> <th>  Prob (F-statistic):</th> <td>9.77e-13</td>\n",
       "</tr>\n",
       "<tr>\n",
       "  <th>Time:</th>                 <td>04:57:45</td>     <th>  Log-Likelihood:    </th> <td> -536.61</td>\n",
       "</tr>\n",
       "<tr>\n",
       "  <th>No. Observations:</th>      <td>    40</td>      <th>  AIC:               </th> <td>   1079.</td>\n",
       "</tr>\n",
       "<tr>\n",
       "  <th>Df Residuals:</th>          <td>    37</td>      <th>  BIC:               </th> <td>   1084.</td>\n",
       "</tr>\n",
       "<tr>\n",
       "  <th>Df Model:</th>              <td>     2</td>      <th>                     </th>     <td> </td>   \n",
       "</tr>\n",
       "<tr>\n",
       "  <th>Covariance Type:</th>      <td>nonrobust</td>    <th>                     </th>     <td> </td>   \n",
       "</tr>\n",
       "</table>\n",
       "<table class=\"simpletable\">\n",
       "<tr>\n",
       "       <td></td>          <th>coef</th>     <th>std err</th>      <th>t</th>      <th>P>|t|</th>  <th>[0.025</th>    <th>0.975]</th>  \n",
       "</tr>\n",
       "<tr>\n",
       "  <th>intercept</th>   <td> 1.212e+05</td> <td>  8.1e+04</td> <td>    1.496</td> <td> 0.143</td> <td> -4.3e+04</td> <td> 2.85e+05</td>\n",
       "</tr>\n",
       "<tr>\n",
       "  <th>sq_mt_built</th> <td> 3895.8937</td> <td>  932.012</td> <td>    4.180</td> <td> 0.000</td> <td> 2007.457</td> <td> 5784.330</td>\n",
       "</tr>\n",
       "<tr>\n",
       "  <th>n_bathrooms</th> <td>  1.96e+05</td> <td> 4.39e+04</td> <td>    4.468</td> <td> 0.000</td> <td> 1.07e+05</td> <td> 2.85e+05</td>\n",
       "</tr>\n",
       "</table>\n",
       "<table class=\"simpletable\">\n",
       "<tr>\n",
       "  <th>Omnibus:</th>       <td> 0.313</td> <th>  Durbin-Watson:     </th> <td>   1.536</td>\n",
       "</tr>\n",
       "<tr>\n",
       "  <th>Prob(Omnibus):</th> <td> 0.855</td> <th>  Jarque-Bera (JB):  </th> <td>   0.372</td>\n",
       "</tr>\n",
       "<tr>\n",
       "  <th>Skew:</th>          <td>-0.192</td> <th>  Prob(JB):          </th> <td>   0.830</td>\n",
       "</tr>\n",
       "<tr>\n",
       "  <th>Kurtosis:</th>      <td> 2.724</td> <th>  Cond. No.          </th> <td>    373.</td>\n",
       "</tr>\n",
       "</table><br/><br/>Notes:<br/>[1] Standard Errors assume that the covariance matrix of the errors is correctly specified."
      ],
      "text/latex": [
       "\\begin{center}\n",
       "\\begin{tabular}{lclc}\n",
       "\\toprule\n",
       "\\textbf{Dep. Variable:}    &    buy\\_price    & \\textbf{  R-squared:         } &     0.776   \\\\\n",
       "\\textbf{Model:}            &       OLS        & \\textbf{  Adj. R-squared:    } &     0.764   \\\\\n",
       "\\textbf{Method:}           &  Least Squares   & \\textbf{  F-statistic:       } &     63.98   \\\\\n",
       "\\textbf{Date:}             & Tue, 14 Jan 2025 & \\textbf{  Prob (F-statistic):} &  9.77e-13   \\\\\n",
       "\\textbf{Time:}             &     04:57:45     & \\textbf{  Log-Likelihood:    } &   -536.61   \\\\\n",
       "\\textbf{No. Observations:} &          40      & \\textbf{  AIC:               } &     1079.   \\\\\n",
       "\\textbf{Df Residuals:}     &          37      & \\textbf{  BIC:               } &     1084.   \\\\\n",
       "\\textbf{Df Model:}         &           2      & \\textbf{                     } &             \\\\\n",
       "\\textbf{Covariance Type:}  &    nonrobust     & \\textbf{                     } &             \\\\\n",
       "\\bottomrule\n",
       "\\end{tabular}\n",
       "\\begin{tabular}{lcccccc}\n",
       "                       & \\textbf{coef} & \\textbf{std err} & \\textbf{t} & \\textbf{P$> |$t$|$} & \\textbf{[0.025} & \\textbf{0.975]}  \\\\\n",
       "\\midrule\n",
       "\\textbf{intercept}     &    1.212e+05  &      8.1e+04     &     1.496  &         0.143        &     -4.3e+04    &     2.85e+05     \\\\\n",
       "\\textbf{sq\\_mt\\_built} &    3895.8937  &      932.012     &     4.180  &         0.000        &     2007.457    &     5784.330     \\\\\n",
       "\\textbf{n\\_bathrooms}  &     1.96e+05  &     4.39e+04     &     4.468  &         0.000        &     1.07e+05    &     2.85e+05     \\\\\n",
       "\\bottomrule\n",
       "\\end{tabular}\n",
       "\\begin{tabular}{lclc}\n",
       "\\textbf{Omnibus:}       &  0.313 & \\textbf{  Durbin-Watson:     } &    1.536  \\\\\n",
       "\\textbf{Prob(Omnibus):} &  0.855 & \\textbf{  Jarque-Bera (JB):  } &    0.372  \\\\\n",
       "\\textbf{Skew:}          & -0.192 & \\textbf{  Prob(JB):          } &    0.830  \\\\\n",
       "\\textbf{Kurtosis:}      &  2.724 & \\textbf{  Cond. No.          } &     373.  \\\\\n",
       "\\bottomrule\n",
       "\\end{tabular}\n",
       "%\\caption{OLS Regression Results}\n",
       "\\end{center}\n",
       "\n",
       "Notes: \\newline\n",
       " [1] Standard Errors assume that the covariance matrix of the errors is correctly specified."
      ],
      "text/plain": [
       "<class 'statsmodels.iolib.summary.Summary'>\n",
       "\"\"\"\n",
       "                            OLS Regression Results                            \n",
       "==============================================================================\n",
       "Dep. Variable:              buy_price   R-squared:                       0.776\n",
       "Model:                            OLS   Adj. R-squared:                  0.764\n",
       "Method:                 Least Squares   F-statistic:                     63.98\n",
       "Date:                Tue, 14 Jan 2025   Prob (F-statistic):           9.77e-13\n",
       "Time:                        04:57:45   Log-Likelihood:                -536.61\n",
       "No. Observations:                  40   AIC:                             1079.\n",
       "Df Residuals:                      37   BIC:                             1084.\n",
       "Df Model:                           2                                         \n",
       "Covariance Type:            nonrobust                                         \n",
       "===============================================================================\n",
       "                  coef    std err          t      P>|t|      [0.025      0.975]\n",
       "-------------------------------------------------------------------------------\n",
       "intercept    1.212e+05    8.1e+04      1.496      0.143    -4.3e+04    2.85e+05\n",
       "sq_mt_built  3895.8937    932.012      4.180      0.000    2007.457    5784.330\n",
       "n_bathrooms   1.96e+05   4.39e+04      4.468      0.000    1.07e+05    2.85e+05\n",
       "==============================================================================\n",
       "Omnibus:                        0.313   Durbin-Watson:                   1.536\n",
       "Prob(Omnibus):                  0.855   Jarque-Bera (JB):                0.372\n",
       "Skew:                          -0.192   Prob(JB):                        0.830\n",
       "Kurtosis:                       2.724   Cond. No.                         373.\n",
       "==============================================================================\n",
       "\n",
       "Notes:\n",
       "[1] Standard Errors assume that the covariance matrix of the errors is correctly specified.\n",
       "\"\"\""
      ]
     },
     "execution_count": 53,
     "metadata": {},
     "output_type": "execute_result"
    }
   ],
   "source": [
    "# Perform a multiple linear regression to predict 'buy_price' based on 'sq_mt_built' and 'n_bathrooms' in the 'Recoletos' district using statsmodels\n",
    "Linear_model = sm.OLS(reco.buy_price, reco[['intercept', 'sq_mt_built', 'n_bathrooms']])\n",
    "result = Linear_model.fit()\n",
    "result.summary()"
   ]
  },
  {
   "cell_type": "code",
   "execution_count": 54,
   "metadata": {},
   "outputs": [
    {
     "name": "stdout",
     "output_type": "stream",
     "text": [
      "pridected price of flat in Recoletos with area of 300 m2 and 3 bathrooms = 1877968.11 Euro\n"
     ]
    }
   ],
   "source": [
    "# Predict the price of an apartment in 'Recoletos' using a multiple linear regression formula with 'sq_mt_built' and 'n_bathrooms' as predictors\n",
    "# y^ = b0 + (b1 * x) + (b2 * x) + (b3 * x) + ... + bm * x\n",
    "area = 300 # Area in m²\n",
    "bath = 3 # Number of bathrooms\n",
    "price = 121200 + (3895.8937  * area)  + (196000 * bath)\n",
    "print('pridected price of flat in Recoletos with area of {} m2 and {} bathrooms = {} Euro'.format(area, bath, price))"
   ]
  },
  {
   "cell_type": "markdown",
   "metadata": {},
   "source": [
    "### -- DUUMAY VARIABLES"
   ]
  },
  {
   "cell_type": "code",
   "execution_count": 55,
   "metadata": {},
   "outputs": [
    {
     "data": {
      "text/plain": [
       "146"
      ]
     },
     "execution_count": 55,
     "metadata": {},
     "output_type": "execute_result"
    }
   ],
   "source": [
    "# this column contains object or text values (categorical data) \n",
    "df.district.nunique()\n",
    "# we have 146 districts"
   ]
  },
  {
   "cell_type": "code",
   "execution_count": 56,
   "metadata": {},
   "outputs": [
    {
     "data": {
      "text/html": [
       "<div>\n",
       "<style scoped>\n",
       "    .dataframe tbody tr th:only-of-type {\n",
       "        vertical-align: middle;\n",
       "    }\n",
       "\n",
       "    .dataframe tbody tr th {\n",
       "        vertical-align: top;\n",
       "    }\n",
       "\n",
       "    .dataframe thead th {\n",
       "        text-align: right;\n",
       "    }\n",
       "</style>\n",
       "<table border=\"1\" class=\"dataframe\">\n",
       "  <thead>\n",
       "    <tr style=\"text-align: right;\">\n",
       "      <th></th>\n",
       "      <th>id</th>\n",
       "      <th>district</th>\n",
       "      <th>sq_mt_built</th>\n",
       "      <th>n_rooms</th>\n",
       "      <th>n_bathrooms</th>\n",
       "      <th>buy_price</th>\n",
       "      <th>buy_price_by_area</th>\n",
       "    </tr>\n",
       "  </thead>\n",
       "  <tbody>\n",
       "    <tr>\n",
       "      <th>8571</th>\n",
       "      <td>10805</td>\n",
       "      <td>Trafalgar</td>\n",
       "      <td>68.00</td>\n",
       "      <td>2</td>\n",
       "      <td>1</td>\n",
       "      <td>510000</td>\n",
       "      <td>7500</td>\n",
       "    </tr>\n",
       "    <tr>\n",
       "      <th>8624</th>\n",
       "      <td>10742</td>\n",
       "      <td>Trafalgar</td>\n",
       "      <td>103.00</td>\n",
       "      <td>2</td>\n",
       "      <td>2</td>\n",
       "      <td>980000</td>\n",
       "      <td>9515</td>\n",
       "    </tr>\n",
       "    <tr>\n",
       "      <th>8625</th>\n",
       "      <td>10741</td>\n",
       "      <td>Trafalgar</td>\n",
       "      <td>103.00</td>\n",
       "      <td>2</td>\n",
       "      <td>2</td>\n",
       "      <td>960000</td>\n",
       "      <td>9320</td>\n",
       "    </tr>\n",
       "    <tr>\n",
       "      <th>8626</th>\n",
       "      <td>10740</td>\n",
       "      <td>Trafalgar</td>\n",
       "      <td>30.00</td>\n",
       "      <td>0</td>\n",
       "      <td>1</td>\n",
       "      <td>250000</td>\n",
       "      <td>8333</td>\n",
       "    </tr>\n",
       "    <tr>\n",
       "      <th>8633</th>\n",
       "      <td>10732</td>\n",
       "      <td>Trafalgar</td>\n",
       "      <td>95.00</td>\n",
       "      <td>4</td>\n",
       "      <td>1</td>\n",
       "      <td>239000</td>\n",
       "      <td>2516</td>\n",
       "    </tr>\n",
       "  </tbody>\n",
       "</table>\n",
       "</div>"
      ],
      "text/plain": [
       "         id   district  sq_mt_built  n_rooms  n_bathrooms  buy_price  \\\n",
       "8571  10805  Trafalgar        68.00        2            1     510000   \n",
       "8624  10742  Trafalgar       103.00        2            2     980000   \n",
       "8625  10741  Trafalgar       103.00        2            2     960000   \n",
       "8626  10740  Trafalgar        30.00        0            1     250000   \n",
       "8633  10732  Trafalgar        95.00        4            1     239000   \n",
       "\n",
       "      buy_price_by_area  \n",
       "8571               7500  \n",
       "8624               9515  \n",
       "8625               9320  \n",
       "8626               8333  \n",
       "8633               2516  "
      ]
     },
     "execution_count": 56,
     "metadata": {},
     "output_type": "execute_result"
    }
   ],
   "source": [
    "# Filter the DataFrame to include only the top three districts ('Recoletos', 'Castellana', 'Trafalgar') for price prediction\n",
    "df_dummy = df.query('district in (\"Recoletos\", \"Castellana\", \"Trafalgar\")')\n",
    "df_dummy.head()"
   ]
  },
  {
   "cell_type": "code",
   "execution_count": 57,
   "metadata": {},
   "outputs": [
    {
     "data": {
      "text/html": [
       "<div>\n",
       "<style scoped>\n",
       "    .dataframe tbody tr th:only-of-type {\n",
       "        vertical-align: middle;\n",
       "    }\n",
       "\n",
       "    .dataframe tbody tr th {\n",
       "        vertical-align: top;\n",
       "    }\n",
       "\n",
       "    .dataframe thead th {\n",
       "        text-align: right;\n",
       "    }\n",
       "</style>\n",
       "<table border=\"1\" class=\"dataframe\">\n",
       "  <thead>\n",
       "    <tr style=\"text-align: right;\">\n",
       "      <th></th>\n",
       "      <th>Castellana</th>\n",
       "      <th>Recoletos</th>\n",
       "      <th>Trafalgar</th>\n",
       "    </tr>\n",
       "  </thead>\n",
       "  <tbody>\n",
       "    <tr>\n",
       "      <th>8571</th>\n",
       "      <td>False</td>\n",
       "      <td>False</td>\n",
       "      <td>True</td>\n",
       "    </tr>\n",
       "    <tr>\n",
       "      <th>8624</th>\n",
       "      <td>False</td>\n",
       "      <td>False</td>\n",
       "      <td>True</td>\n",
       "    </tr>\n",
       "    <tr>\n",
       "      <th>8625</th>\n",
       "      <td>False</td>\n",
       "      <td>False</td>\n",
       "      <td>True</td>\n",
       "    </tr>\n",
       "    <tr>\n",
       "      <th>8626</th>\n",
       "      <td>False</td>\n",
       "      <td>False</td>\n",
       "      <td>True</td>\n",
       "    </tr>\n",
       "    <tr>\n",
       "      <th>8633</th>\n",
       "      <td>False</td>\n",
       "      <td>False</td>\n",
       "      <td>True</td>\n",
       "    </tr>\n",
       "  </tbody>\n",
       "</table>\n",
       "</div>"
      ],
      "text/plain": [
       "      Castellana  Recoletos  Trafalgar\n",
       "8571       False      False       True\n",
       "8624       False      False       True\n",
       "8625       False      False       True\n",
       "8626       False      False       True\n",
       "8633       False      False       True"
      ]
     },
     "execution_count": 57,
     "metadata": {},
     "output_type": "execute_result"
    }
   ],
   "source": [
    "# get_dummeies to convert text to numbers\n",
    "pd.get_dummies(df_dummy.district).head()\n",
    "\n",
    "# If a value is '1' in one district column, it indicates that the corresponding row belongs to that district"
   ]
  },
  {
   "cell_type": "code",
   "execution_count": 58,
   "metadata": {},
   "outputs": [
    {
     "name": "stderr",
     "output_type": "stream",
     "text": [
      "C:\\Users\\Azhaa\\AppData\\Local\\Temp\\ipykernel_812\\942502060.py:2: SettingWithCopyWarning:\n",
      "\n",
      "\n",
      "A value is trying to be set on a copy of a slice from a DataFrame.\n",
      "Try using .loc[row_indexer,col_indexer] = value instead\n",
      "\n",
      "See the caveats in the documentation: https://pandas.pydata.org/pandas-docs/stable/user_guide/indexing.html#returning-a-view-versus-a-copy\n",
      "\n",
      "C:\\Users\\Azhaa\\AppData\\Local\\Temp\\ipykernel_812\\942502060.py:2: SettingWithCopyWarning:\n",
      "\n",
      "\n",
      "A value is trying to be set on a copy of a slice from a DataFrame.\n",
      "Try using .loc[row_indexer,col_indexer] = value instead\n",
      "\n",
      "See the caveats in the documentation: https://pandas.pydata.org/pandas-docs/stable/user_guide/indexing.html#returning-a-view-versus-a-copy\n",
      "\n",
      "C:\\Users\\Azhaa\\AppData\\Local\\Temp\\ipykernel_812\\942502060.py:2: SettingWithCopyWarning:\n",
      "\n",
      "\n",
      "A value is trying to be set on a copy of a slice from a DataFrame.\n",
      "Try using .loc[row_indexer,col_indexer] = value instead\n",
      "\n",
      "See the caveats in the documentation: https://pandas.pydata.org/pandas-docs/stable/user_guide/indexing.html#returning-a-view-versus-a-copy\n",
      "\n"
     ]
    },
    {
     "data": {
      "text/html": [
       "<div>\n",
       "<style scoped>\n",
       "    .dataframe tbody tr th:only-of-type {\n",
       "        vertical-align: middle;\n",
       "    }\n",
       "\n",
       "    .dataframe tbody tr th {\n",
       "        vertical-align: top;\n",
       "    }\n",
       "\n",
       "    .dataframe thead th {\n",
       "        text-align: right;\n",
       "    }\n",
       "</style>\n",
       "<table border=\"1\" class=\"dataframe\">\n",
       "  <thead>\n",
       "    <tr style=\"text-align: right;\">\n",
       "      <th></th>\n",
       "      <th>id</th>\n",
       "      <th>district</th>\n",
       "      <th>sq_mt_built</th>\n",
       "      <th>n_rooms</th>\n",
       "      <th>n_bathrooms</th>\n",
       "      <th>buy_price</th>\n",
       "      <th>buy_price_by_area</th>\n",
       "      <th>Cast</th>\n",
       "      <th>Reco</th>\n",
       "      <th>Traf</th>\n",
       "    </tr>\n",
       "  </thead>\n",
       "  <tbody>\n",
       "    <tr>\n",
       "      <th>8571</th>\n",
       "      <td>10805</td>\n",
       "      <td>Trafalgar</td>\n",
       "      <td>68.00</td>\n",
       "      <td>2</td>\n",
       "      <td>1</td>\n",
       "      <td>510000</td>\n",
       "      <td>7500</td>\n",
       "      <td>0</td>\n",
       "      <td>0</td>\n",
       "      <td>1</td>\n",
       "    </tr>\n",
       "    <tr>\n",
       "      <th>8624</th>\n",
       "      <td>10742</td>\n",
       "      <td>Trafalgar</td>\n",
       "      <td>103.00</td>\n",
       "      <td>2</td>\n",
       "      <td>2</td>\n",
       "      <td>980000</td>\n",
       "      <td>9515</td>\n",
       "      <td>0</td>\n",
       "      <td>0</td>\n",
       "      <td>1</td>\n",
       "    </tr>\n",
       "    <tr>\n",
       "      <th>8625</th>\n",
       "      <td>10741</td>\n",
       "      <td>Trafalgar</td>\n",
       "      <td>103.00</td>\n",
       "      <td>2</td>\n",
       "      <td>2</td>\n",
       "      <td>960000</td>\n",
       "      <td>9320</td>\n",
       "      <td>0</td>\n",
       "      <td>0</td>\n",
       "      <td>1</td>\n",
       "    </tr>\n",
       "    <tr>\n",
       "      <th>8626</th>\n",
       "      <td>10740</td>\n",
       "      <td>Trafalgar</td>\n",
       "      <td>30.00</td>\n",
       "      <td>0</td>\n",
       "      <td>1</td>\n",
       "      <td>250000</td>\n",
       "      <td>8333</td>\n",
       "      <td>0</td>\n",
       "      <td>0</td>\n",
       "      <td>1</td>\n",
       "    </tr>\n",
       "    <tr>\n",
       "      <th>8633</th>\n",
       "      <td>10732</td>\n",
       "      <td>Trafalgar</td>\n",
       "      <td>95.00</td>\n",
       "      <td>4</td>\n",
       "      <td>1</td>\n",
       "      <td>239000</td>\n",
       "      <td>2516</td>\n",
       "      <td>0</td>\n",
       "      <td>0</td>\n",
       "      <td>1</td>\n",
       "    </tr>\n",
       "  </tbody>\n",
       "</table>\n",
       "</div>"
      ],
      "text/plain": [
       "         id   district  sq_mt_built  n_rooms  n_bathrooms  buy_price  \\\n",
       "8571  10805  Trafalgar        68.00        2            1     510000   \n",
       "8624  10742  Trafalgar       103.00        2            2     980000   \n",
       "8625  10741  Trafalgar       103.00        2            2     960000   \n",
       "8626  10740  Trafalgar        30.00        0            1     250000   \n",
       "8633  10732  Trafalgar        95.00        4            1     239000   \n",
       "\n",
       "      buy_price_by_area  Cast  Reco  Traf  \n",
       "8571               7500     0     0     1  \n",
       "8624               9515     0     0     1  \n",
       "8625               9320     0     0     1  \n",
       "8626               8333     0     0     1  \n",
       "8633               2516     0     0     1  "
      ]
     },
     "execution_count": 58,
     "metadata": {},
     "output_type": "execute_result"
    }
   ],
   "source": [
    "# Create new columns ('Cast', 'Reco', 'Traf') for the 'district' column in df_dummy, where each column represents a specific district\n",
    "df_dummy[['Cast', 'Reco', 'Traf']] = pd.get_dummies(df_dummy['district'], dtype= 'int')\n",
    "df_dummy.head()"
   ]
  },
  {
   "cell_type": "code",
   "execution_count": 60,
   "metadata": {},
   "outputs": [
    {
     "name": "stderr",
     "output_type": "stream",
     "text": [
      "C:\\Users\\Azhaa\\AppData\\Local\\Temp\\ipykernel_812\\181494578.py:2: SettingWithCopyWarning:\n",
      "\n",
      "\n",
      "A value is trying to be set on a copy of a slice from a DataFrame.\n",
      "Try using .loc[row_indexer,col_indexer] = value instead\n",
      "\n",
      "See the caveats in the documentation: https://pandas.pydata.org/pandas-docs/stable/user_guide/indexing.html#returning-a-view-versus-a-copy\n",
      "\n"
     ]
    },
    {
     "data": {
      "text/html": [
       "<table class=\"simpletable\">\n",
       "<caption>OLS Regression Results</caption>\n",
       "<tr>\n",
       "  <th>Dep. Variable:</th>        <td>buy_price</td>    <th>  R-squared:         </th> <td>   0.162</td>\n",
       "</tr>\n",
       "<tr>\n",
       "  <th>Model:</th>                   <td>OLS</td>       <th>  Adj. R-squared:    </th> <td>   0.156</td>\n",
       "</tr>\n",
       "<tr>\n",
       "  <th>Method:</th>             <td>Least Squares</td>  <th>  F-statistic:       </th> <td>   30.15</td>\n",
       "</tr>\n",
       "<tr>\n",
       "  <th>Date:</th>             <td>Tue, 14 Jan 2025</td> <th>  Prob (F-statistic):</th> <td>1.06e-12</td>\n",
       "</tr>\n",
       "<tr>\n",
       "  <th>Time:</th>                 <td>05:08:55</td>     <th>  Log-Likelihood:    </th> <td> -4425.0</td>\n",
       "</tr>\n",
       "<tr>\n",
       "  <th>No. Observations:</th>      <td>   316</td>      <th>  AIC:               </th> <td>   8856.</td>\n",
       "</tr>\n",
       "<tr>\n",
       "  <th>Df Residuals:</th>          <td>   313</td>      <th>  BIC:               </th> <td>   8867.</td>\n",
       "</tr>\n",
       "<tr>\n",
       "  <th>Df Model:</th>              <td>     2</td>      <th>                     </th>     <td> </td>   \n",
       "</tr>\n",
       "<tr>\n",
       "  <th>Covariance Type:</th>      <td>nonrobust</td>    <th>                     </th>     <td> </td>   \n",
       "</tr>\n",
       "</table>\n",
       "<table class=\"simpletable\">\n",
       "<tr>\n",
       "      <td></td>         <th>coef</th>     <th>std err</th>      <th>t</th>      <th>P>|t|</th>  <th>[0.025</th>    <th>0.975]</th>  \n",
       "</tr>\n",
       "<tr>\n",
       "  <th>intercept</th> <td> 9.446e+05</td> <td> 4.64e+04</td> <td>   20.370</td> <td> 0.000</td> <td> 8.53e+05</td> <td> 1.04e+06</td>\n",
       "</tr>\n",
       "<tr>\n",
       "  <th>Cast</th>      <td>-1.339e+05</td> <td> 6.09e+04</td> <td>   -2.198</td> <td> 0.029</td> <td>-2.54e+05</td> <td> -1.4e+04</td>\n",
       "</tr>\n",
       "<tr>\n",
       "  <th>Traf</th>      <td>-3.455e+05</td> <td> 5.04e+04</td> <td>   -6.856</td> <td> 0.000</td> <td>-4.45e+05</td> <td>-2.46e+05</td>\n",
       "</tr>\n",
       "</table>\n",
       "<table class=\"simpletable\">\n",
       "<tr>\n",
       "  <th>Omnibus:</th>       <td>15.307</td> <th>  Durbin-Watson:     </th> <td>   1.805</td>\n",
       "</tr>\n",
       "<tr>\n",
       "  <th>Prob(Omnibus):</th> <td> 0.000</td> <th>  Jarque-Bera (JB):  </th> <td>   9.932</td>\n",
       "</tr>\n",
       "<tr>\n",
       "  <th>Skew:</th>          <td> 0.296</td> <th>  Prob(JB):          </th> <td> 0.00697</td>\n",
       "</tr>\n",
       "<tr>\n",
       "  <th>Kurtosis:</th>      <td> 2.365</td> <th>  Cond. No.          </th> <td>    6.45</td>\n",
       "</tr>\n",
       "</table><br/><br/>Notes:<br/>[1] Standard Errors assume that the covariance matrix of the errors is correctly specified."
      ],
      "text/latex": [
       "\\begin{center}\n",
       "\\begin{tabular}{lclc}\n",
       "\\toprule\n",
       "\\textbf{Dep. Variable:}    &    buy\\_price    & \\textbf{  R-squared:         } &     0.162   \\\\\n",
       "\\textbf{Model:}            &       OLS        & \\textbf{  Adj. R-squared:    } &     0.156   \\\\\n",
       "\\textbf{Method:}           &  Least Squares   & \\textbf{  F-statistic:       } &     30.15   \\\\\n",
       "\\textbf{Date:}             & Tue, 14 Jan 2025 & \\textbf{  Prob (F-statistic):} &  1.06e-12   \\\\\n",
       "\\textbf{Time:}             &     05:08:55     & \\textbf{  Log-Likelihood:    } &   -4425.0   \\\\\n",
       "\\textbf{No. Observations:} &         316      & \\textbf{  AIC:               } &     8856.   \\\\\n",
       "\\textbf{Df Residuals:}     &         313      & \\textbf{  BIC:               } &     8867.   \\\\\n",
       "\\textbf{Df Model:}         &           2      & \\textbf{                     } &             \\\\\n",
       "\\textbf{Covariance Type:}  &    nonrobust     & \\textbf{                     } &             \\\\\n",
       "\\bottomrule\n",
       "\\end{tabular}\n",
       "\\begin{tabular}{lcccccc}\n",
       "                   & \\textbf{coef} & \\textbf{std err} & \\textbf{t} & \\textbf{P$> |$t$|$} & \\textbf{[0.025} & \\textbf{0.975]}  \\\\\n",
       "\\midrule\n",
       "\\textbf{intercept} &    9.446e+05  &     4.64e+04     &    20.370  &         0.000        &     8.53e+05    &     1.04e+06     \\\\\n",
       "\\textbf{Cast}      &   -1.339e+05  &     6.09e+04     &    -2.198  &         0.029        &    -2.54e+05    &     -1.4e+04     \\\\\n",
       "\\textbf{Traf}      &   -3.455e+05  &     5.04e+04     &    -6.856  &         0.000        &    -4.45e+05    &    -2.46e+05     \\\\\n",
       "\\bottomrule\n",
       "\\end{tabular}\n",
       "\\begin{tabular}{lclc}\n",
       "\\textbf{Omnibus:}       & 15.307 & \\textbf{  Durbin-Watson:     } &    1.805  \\\\\n",
       "\\textbf{Prob(Omnibus):} &  0.000 & \\textbf{  Jarque-Bera (JB):  } &    9.932  \\\\\n",
       "\\textbf{Skew:}          &  0.296 & \\textbf{  Prob(JB):          } &  0.00697  \\\\\n",
       "\\textbf{Kurtosis:}      &  2.365 & \\textbf{  Cond. No.          } &     6.45  \\\\\n",
       "\\bottomrule\n",
       "\\end{tabular}\n",
       "%\\caption{OLS Regression Results}\n",
       "\\end{center}\n",
       "\n",
       "Notes: \\newline\n",
       " [1] Standard Errors assume that the covariance matrix of the errors is correctly specified."
      ],
      "text/plain": [
       "<class 'statsmodels.iolib.summary.Summary'>\n",
       "\"\"\"\n",
       "                            OLS Regression Results                            \n",
       "==============================================================================\n",
       "Dep. Variable:              buy_price   R-squared:                       0.162\n",
       "Model:                            OLS   Adj. R-squared:                  0.156\n",
       "Method:                 Least Squares   F-statistic:                     30.15\n",
       "Date:                Tue, 14 Jan 2025   Prob (F-statistic):           1.06e-12\n",
       "Time:                        05:08:55   Log-Likelihood:                -4425.0\n",
       "No. Observations:                 316   AIC:                             8856.\n",
       "Df Residuals:                     313   BIC:                             8867.\n",
       "Df Model:                           2                                         \n",
       "Covariance Type:            nonrobust                                         \n",
       "==============================================================================\n",
       "                 coef    std err          t      P>|t|      [0.025      0.975]\n",
       "------------------------------------------------------------------------------\n",
       "intercept   9.446e+05   4.64e+04     20.370      0.000    8.53e+05    1.04e+06\n",
       "Cast       -1.339e+05   6.09e+04     -2.198      0.029   -2.54e+05    -1.4e+04\n",
       "Traf       -3.455e+05   5.04e+04     -6.856      0.000   -4.45e+05   -2.46e+05\n",
       "==============================================================================\n",
       "Omnibus:                       15.307   Durbin-Watson:                   1.805\n",
       "Prob(Omnibus):                  0.000   Jarque-Bera (JB):                9.932\n",
       "Skew:                           0.296   Prob(JB):                      0.00697\n",
       "Kurtosis:                       2.365   Cond. No.                         6.45\n",
       "==============================================================================\n",
       "\n",
       "Notes:\n",
       "[1] Standard Errors assume that the covariance matrix of the errors is correctly specified.\n",
       "\"\"\""
      ]
     },
     "execution_count": 60,
     "metadata": {},
     "output_type": "execute_result"
    }
   ],
   "source": [
    "# Add an intercept column to the DataFrame for the regression model\n",
    "df_dummy['intercept'] = 1\n",
    "# Create a multiple linear regression model to predict 'buy_price' using the intercept and district dummy variables ('Cast' and 'Traf')\n",
    "Linear_model = sm.OLS(df_dummy.buy_price, df_dummy[['intercept', 'Cast', 'Traf']])\n",
    "result = Linear_model.fit()\n",
    "result.summary()"
   ]
  }
 ],
 "metadata": {
  "kernelspec": {
   "display_name": "Python 3",
   "language": "python",
   "name": "python3"
  },
  "language_info": {
   "codemirror_mode": {
    "name": "ipython",
    "version": 3
   },
   "file_extension": ".py",
   "mimetype": "text/x-python",
   "name": "python",
   "nbconvert_exporter": "python",
   "pygments_lexer": "ipython3",
   "version": "3.11.0"
  }
 },
 "nbformat": 4,
 "nbformat_minor": 2
}
